{
 "cells": [
  {
   "cell_type": "code",
   "execution_count": 10,
   "id": "cb126f7e-3360-4874-8995-7e36508e450a",
   "metadata": {},
   "outputs": [],
   "source": [
    "import streamlit as st\n",
    "from langchain_openai import ChatOpenAI\n",
    "from dotenv import load_dotenv\n",
    "import time\n",
    "\n",
    "load_dotenv()\n",
    "\n",
    "st.set_page_config(page_title=\"🦜⛓️‍💥뭐든지 질문하세요!!\")\n",
    "st.title(\"🦜⛓️‍💥뭐든지 질문하세요!!\")\n",
    "st.text(\"랭체인으로 LLM 기반의 AI 서비스 개발하기 도서를 읽으면서 만든 간단 챗봇입니다.\")\n",
    "\n",
    "def generate_response(input_text):\n",
    "    llm = ChatOpenAI(\n",
    "        temperature=0,\n",
    "        model_name='gpt-4-turbo',\n",
    "    )\n",
    "    response = llm.invoke(input_text).content\n",
    "    with st.spinner('답변 생성 중...'):\n",
    "        time.sleep(2)\n",
    "    st.info(response)\n",
    "    \n",
    "\n",
    "with st.form('Question'):\n",
    "    text = st.text_area('질문 입력:', 'What types of text models does OpenAI provide?')\n",
    "    submitted = st.form_submit_button('보내기')\n",
    "    generate_response(text)"
   ]
  },
  {
   "cell_type": "code",
   "execution_count": null,
   "id": "51f0796d-a491-4cfc-99df-4635e7d47b62",
   "metadata": {},
   "outputs": [],
   "source": []
  }
 ],
 "metadata": {
  "kernelspec": {
   "display_name": "llm",
   "language": "python",
   "name": "llm"
  },
  "language_info": {
   "codemirror_mode": {
    "name": "ipython",
    "version": 3
   },
   "file_extension": ".py",
   "mimetype": "text/x-python",
   "name": "python",
   "nbconvert_exporter": "python",
   "pygments_lexer": "ipython3",
   "version": "3.8.19"
  }
 },
 "nbformat": 4,
 "nbformat_minor": 5
}
