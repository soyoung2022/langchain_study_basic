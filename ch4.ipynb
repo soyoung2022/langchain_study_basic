{
 "cells": [
  {
   "cell_type": "code",
   "execution_count": 1,
   "id": "0c3d4c3a-7fd7-488a-bc97-41501c17a336",
   "metadata": {},
   "outputs": [
    {
     "name": "stdout",
     "output_type": "stream",
     "text": [
      "Looking in indexes: https://pypi.org/simple, https://pypi.ngc.nvidia.com\n",
      "Collecting langchain\n",
      "  Downloading langchain-0.2.11-py3-none-any.whl.metadata (7.1 kB)\n",
      "Requirement already satisfied: PyYAML>=5.3 in ./anaconda3/envs/llm/lib/python3.8/site-packages (from langchain) (6.0.1)\n",
      "Collecting SQLAlchemy<3,>=1.4 (from langchain)\n",
      "  Downloading SQLAlchemy-2.0.31-cp38-cp38-macosx_10_9_x86_64.whl.metadata (9.6 kB)\n",
      "Collecting aiohttp<4.0.0,>=3.8.3 (from langchain)\n",
      "  Downloading aiohttp-3.9.5-cp38-cp38-macosx_10_9_x86_64.whl.metadata (7.5 kB)\n",
      "Collecting async-timeout<5.0.0,>=4.0.0 (from langchain)\n",
      "  Downloading async_timeout-4.0.3-py3-none-any.whl.metadata (4.2 kB)\n",
      "Collecting langchain-core<0.3.0,>=0.2.23 (from langchain)\n",
      "  Downloading langchain_core-0.2.23-py3-none-any.whl.metadata (6.2 kB)\n",
      "Collecting langchain-text-splitters<0.3.0,>=0.2.0 (from langchain)\n",
      "  Downloading langchain_text_splitters-0.2.2-py3-none-any.whl.metadata (2.1 kB)\n",
      "Collecting langsmith<0.2.0,>=0.1.17 (from langchain)\n",
      "  Downloading langsmith-0.1.93-py3-none-any.whl.metadata (13 kB)\n",
      "Collecting numpy<2,>=1 (from langchain)\n",
      "  Downloading numpy-1.24.4-cp38-cp38-macosx_10_9_x86_64.whl.metadata (5.6 kB)\n",
      "Collecting pydantic<3,>=1 (from langchain)\n",
      "  Downloading pydantic-2.8.2-py3-none-any.whl.metadata (125 kB)\n",
      "\u001b[2K     \u001b[38;2;114;156;31m━━━━━━━━━━━━━━━━━━━━━━━━━━━━━━━━━━━━━━\u001b[0m \u001b[32m125.2/125.2 kB\u001b[0m \u001b[31m15.2 MB/s\u001b[0m eta \u001b[36m0:00:00\u001b[0m\n",
      "\u001b[?25hRequirement already satisfied: requests<3,>=2 in ./anaconda3/envs/llm/lib/python3.8/site-packages (from langchain) (2.32.3)\n",
      "Collecting tenacity!=8.4.0,<9.0.0,>=8.1.0 (from langchain)\n",
      "  Downloading tenacity-8.5.0-py3-none-any.whl.metadata (1.2 kB)\n",
      "Collecting aiosignal>=1.1.2 (from aiohttp<4.0.0,>=3.8.3->langchain)\n",
      "  Downloading aiosignal-1.3.1-py3-none-any.whl.metadata (4.0 kB)\n",
      "Requirement already satisfied: attrs>=17.3.0 in ./anaconda3/envs/llm/lib/python3.8/site-packages (from aiohttp<4.0.0,>=3.8.3->langchain) (23.2.0)\n",
      "Collecting frozenlist>=1.1.1 (from aiohttp<4.0.0,>=3.8.3->langchain)\n",
      "  Downloading frozenlist-1.4.1-cp38-cp38-macosx_10_9_x86_64.whl.metadata (12 kB)\n",
      "Collecting multidict<7.0,>=4.5 (from aiohttp<4.0.0,>=3.8.3->langchain)\n",
      "  Downloading multidict-6.0.5-cp38-cp38-macosx_10_9_x86_64.whl.metadata (4.2 kB)\n",
      "Collecting yarl<2.0,>=1.0 (from aiohttp<4.0.0,>=3.8.3->langchain)\n",
      "  Downloading yarl-1.9.4-cp38-cp38-macosx_10_9_x86_64.whl.metadata (31 kB)\n",
      "Collecting jsonpatch<2.0,>=1.33 (from langchain-core<0.3.0,>=0.2.23->langchain)\n",
      "  Downloading jsonpatch-1.33-py2.py3-none-any.whl.metadata (3.0 kB)\n",
      "Requirement already satisfied: packaging<25,>=23.2 in ./anaconda3/envs/llm/lib/python3.8/site-packages (from langchain-core<0.3.0,>=0.2.23->langchain) (24.1)\n",
      "Collecting orjson<4.0.0,>=3.9.14 (from langsmith<0.2.0,>=0.1.17->langchain)\n",
      "  Downloading orjson-3.10.6-cp38-cp38-macosx_10_15_x86_64.macosx_11_0_arm64.macosx_10_15_universal2.whl.metadata (50 kB)\n",
      "\u001b[2K     \u001b[38;2;114;156;31m━━━━━━━━━━━━━━━━━━━━━━━━━━━━━━━━━━━━━━━━\u001b[0m \u001b[32m50.4/50.4 kB\u001b[0m \u001b[31m20.9 MB/s\u001b[0m eta \u001b[36m0:00:00\u001b[0m\n",
      "\u001b[?25hCollecting annotated-types>=0.4.0 (from pydantic<3,>=1->langchain)\n",
      "  Downloading annotated_types-0.7.0-py3-none-any.whl.metadata (15 kB)\n",
      "Collecting pydantic-core==2.20.1 (from pydantic<3,>=1->langchain)\n",
      "  Downloading pydantic_core-2.20.1-cp38-cp38-macosx_10_12_x86_64.whl.metadata (6.6 kB)\n",
      "Requirement already satisfied: typing-extensions>=4.6.1 in ./anaconda3/envs/llm/lib/python3.8/site-packages (from pydantic<3,>=1->langchain) (4.12.2)\n",
      "Requirement already satisfied: charset-normalizer<4,>=2 in ./anaconda3/envs/llm/lib/python3.8/site-packages (from requests<3,>=2->langchain) (3.3.2)\n",
      "Requirement already satisfied: idna<4,>=2.5 in ./anaconda3/envs/llm/lib/python3.8/site-packages (from requests<3,>=2->langchain) (3.7)\n",
      "Requirement already satisfied: urllib3<3,>=1.21.1 in ./anaconda3/envs/llm/lib/python3.8/site-packages (from requests<3,>=2->langchain) (2.2.2)\n",
      "Requirement already satisfied: certifi>=2017.4.17 in ./anaconda3/envs/llm/lib/python3.8/site-packages (from requests<3,>=2->langchain) (2024.7.4)\n",
      "Collecting greenlet!=0.4.17 (from SQLAlchemy<3,>=1.4->langchain)\n",
      "  Downloading greenlet-3.0.3.tar.gz (182 kB)\n",
      "\u001b[2K     \u001b[38;2;114;156;31m━━━━━━━━━━━━━━━━━━━━━━━━━━━━━━━━━━━━━━\u001b[0m \u001b[32m182.0/182.0 kB\u001b[0m \u001b[31m12.7 MB/s\u001b[0m eta \u001b[36m0:00:00\u001b[0m\n",
      "\u001b[?25h  Installing build dependencies ... \u001b[?25ldone\n",
      "\u001b[?25h  Getting requirements to build wheel ... \u001b[?25ldone\n",
      "\u001b[?25h  Preparing metadata (pyproject.toml) ... \u001b[?25ldone\n",
      "\u001b[?25hRequirement already satisfied: jsonpointer>=1.9 in ./anaconda3/envs/llm/lib/python3.8/site-packages (from jsonpatch<2.0,>=1.33->langchain-core<0.3.0,>=0.2.23->langchain) (3.0.0)\n",
      "Downloading langchain-0.2.11-py3-none-any.whl (990 kB)\n",
      "\u001b[2K   \u001b[38;2;114;156;31m━━━━━━━━━━━━━━━━━━━━━━━━━━━━━━━━━━━━━━━━\u001b[0m \u001b[32m990.3/990.3 kB\u001b[0m \u001b[31m12.1 MB/s\u001b[0m eta \u001b[36m0:00:00\u001b[0m31m12.1 MB/s\u001b[0m eta \u001b[36m0:00:01\u001b[0m\n",
      "\u001b[?25hDownloading aiohttp-3.9.5-cp38-cp38-macosx_10_9_x86_64.whl (402 kB)\n",
      "\u001b[2K   \u001b[38;2;114;156;31m━━━━━━━━━━━━━━━━━━━━━━━━━━━━━━━━━━━━━━━━\u001b[0m \u001b[32m402.6/402.6 kB\u001b[0m \u001b[31m13.0 MB/s\u001b[0m eta \u001b[36m0:00:00\u001b[0m\n",
      "\u001b[?25hDownloading async_timeout-4.0.3-py3-none-any.whl (5.7 kB)\n",
      "Downloading langchain_core-0.2.23-py3-none-any.whl (374 kB)\n",
      "\u001b[2K   \u001b[38;2;114;156;31m━━━━━━━━━━━━━━━━━━━━━━━━━━━━━━━━━━━━━━━━\u001b[0m \u001b[32m374.2/374.2 kB\u001b[0m \u001b[31m2.0 MB/s\u001b[0m eta \u001b[36m0:00:00\u001b[0m[31m2.1 MB/s\u001b[0m eta \u001b[36m0:00:01\u001b[0m\n",
      "\u001b[?25hDownloading langchain_text_splitters-0.2.2-py3-none-any.whl (25 kB)\n",
      "Downloading langsmith-0.1.93-py3-none-any.whl (139 kB)\n",
      "\u001b[2K   \u001b[38;2;114;156;31m━━━━━━━━━━━━━━━━━━━━━━━━━━━━━━━━━━━━━━━━\u001b[0m \u001b[32m139.8/139.8 kB\u001b[0m \u001b[31m15.6 MB/s\u001b[0m eta \u001b[36m0:00:00\u001b[0m\n",
      "\u001b[?25hDownloading numpy-1.24.4-cp38-cp38-macosx_10_9_x86_64.whl (19.8 MB)\n",
      "\u001b[2K   \u001b[38;2;114;156;31m━━━━━━━━━━━━━━━━━━━━━━━━━━━━━━━━━━━━━━━━\u001b[0m \u001b[32m19.8/19.8 MB\u001b[0m \u001b[31m11.8 MB/s\u001b[0m eta \u001b[36m0:00:00\u001b[0m[36m0:00:01\u001b[0mm eta \u001b[36m0:00:01\u001b[0m\n",
      "\u001b[?25hDownloading pydantic-2.8.2-py3-none-any.whl (423 kB)\n",
      "\u001b[2K   \u001b[38;2;114;156;31m━━━━━━━━━━━━━━━━━━━━━━━━━━━━━━━━━━━━━━━━\u001b[0m \u001b[32m423.9/423.9 kB\u001b[0m \u001b[31m12.1 MB/s\u001b[0m eta \u001b[36m0:00:00\u001b[0m\n",
      "\u001b[?25hDownloading pydantic_core-2.20.1-cp38-cp38-macosx_10_12_x86_64.whl (1.8 MB)\n",
      "\u001b[2K   \u001b[38;2;114;156;31m━━━━━━━━━━━━━━━━━━━━━━━━━━━━━━━━━━━━━━━━\u001b[0m \u001b[32m1.8/1.8 MB\u001b[0m \u001b[31m11.9 MB/s\u001b[0m eta \u001b[36m0:00:00\u001b[0m MB/s\u001b[0m eta \u001b[36m0:00:01\u001b[0m:01\u001b[0m\n",
      "\u001b[?25hDownloading SQLAlchemy-2.0.31-cp38-cp38-macosx_10_9_x86_64.whl (2.1 MB)\n",
      "\u001b[2K   \u001b[38;2;114;156;31m━━━━━━━━━━━━━━━━━━━━━━━━━━━━━━━━━━━━━━━━\u001b[0m \u001b[32m2.1/2.1 MB\u001b[0m \u001b[31m11.1 MB/s\u001b[0m eta \u001b[36m0:00:00\u001b[0m MB/s\u001b[0m eta \u001b[36m0:00:01\u001b[0m:01\u001b[0m\n",
      "\u001b[?25hDownloading tenacity-8.5.0-py3-none-any.whl (28 kB)\n",
      "Downloading aiosignal-1.3.1-py3-none-any.whl (7.6 kB)\n",
      "Downloading annotated_types-0.7.0-py3-none-any.whl (13 kB)\n",
      "Downloading frozenlist-1.4.1-cp38-cp38-macosx_10_9_x86_64.whl (55 kB)\n",
      "\u001b[2K   \u001b[38;2;114;156;31m━━━━━━━━━━━━━━━━━━━━━━━━━━━━━━━━━━━━━━━━\u001b[0m \u001b[32m55.2/55.2 kB\u001b[0m \u001b[31m19.0 MB/s\u001b[0m eta \u001b[36m0:00:00\u001b[0m\n",
      "\u001b[?25hDownloading jsonpatch-1.33-py2.py3-none-any.whl (12 kB)\n",
      "Downloading multidict-6.0.5-cp38-cp38-macosx_10_9_x86_64.whl (30 kB)\n",
      "Downloading orjson-3.10.6-cp38-cp38-macosx_10_15_x86_64.macosx_11_0_arm64.macosx_10_15_universal2.whl (249 kB)\n",
      "\u001b[2K   \u001b[38;2;114;156;31m━━━━━━━━━━━━━━━━━━━━━━━━━━━━━━━━━━━━━━━━\u001b[0m \u001b[32m249.9/249.9 kB\u001b[0m \u001b[31m2.9 MB/s\u001b[0m eta \u001b[36m0:00:00\u001b[0m[31m3.2 MB/s\u001b[0m eta \u001b[36m0:00:01\u001b[0m\n",
      "\u001b[?25hDownloading yarl-1.9.4-cp38-cp38-macosx_10_9_x86_64.whl (83 kB)\n",
      "\u001b[2K   \u001b[38;2;114;156;31m━━━━━━━━━━━━━━━━━━━━━━━━━━━━━━━━━━━━━━━━\u001b[0m \u001b[32m83.7/83.7 kB\u001b[0m \u001b[31m13.2 MB/s\u001b[0m eta \u001b[36m0:00:00\u001b[0m\n",
      "\u001b[?25hBuilding wheels for collected packages: greenlet\n",
      "  Building wheel for greenlet (pyproject.toml) ... \u001b[?25ldone\n",
      "\u001b[?25h  Created wheel for greenlet: filename=greenlet-3.0.3-cp38-cp38-macosx_10_9_x86_64.whl size=218129 sha256=bcdbb133f5536518422d485bab538ae7509709e03645a2b540e8b97eb3f3296f\n",
      "  Stored in directory: /private/var/folders/dg/pj95mbz509vc2n3v_r35dw9m0000gn/T/pip-ephem-wheel-cache-y5659fz0/wheels/48/c3/46/5e61d8224ca5247a7464bdd6fdded397df3f17812d0cbb402f\n",
      "Successfully built greenlet\n",
      "Installing collected packages: tenacity, pydantic-core, orjson, numpy, multidict, jsonpatch, greenlet, frozenlist, async-timeout, annotated-types, yarl, SQLAlchemy, pydantic, aiosignal, langsmith, aiohttp, langchain-core, langchain-text-splitters, langchain\n",
      "Successfully installed SQLAlchemy-2.0.31 aiohttp-3.9.5 aiosignal-1.3.1 annotated-types-0.7.0 async-timeout-4.0.3 frozenlist-1.4.1 greenlet-3.0.3 jsonpatch-1.33 langchain-0.2.11 langchain-core-0.2.23 langchain-text-splitters-0.2.2 langsmith-0.1.93 multidict-6.0.5 numpy-1.24.4 orjson-3.10.6 pydantic-2.8.2 pydantic-core-2.20.1 tenacity-8.5.0 yarl-1.9.4\n"
     ]
    }
   ],
   "source": [
    "!pip install langchain"
   ]
  },
  {
   "cell_type": "code",
   "execution_count": 14,
   "id": "bb6fba4d-07e7-4d0f-9e93-87d7e3f9ca4b",
   "metadata": {},
   "outputs": [
    {
     "name": "stdout",
     "output_type": "stream",
     "text": [
      "Looking in indexes: https://pypi.org/simple, https://pypi.ngc.nvidia.com\n",
      "Collecting langchain_openai\n",
      "  Downloading langchain_openai-0.1.17-py3-none-any.whl.metadata (2.5 kB)\n",
      "Requirement already satisfied: langchain-core<0.3.0,>=0.2.20 in ./anaconda3/envs/llm/lib/python3.8/site-packages (from langchain_openai) (0.2.23)\n",
      "Requirement already satisfied: openai<2.0.0,>=1.32.0 in ./anaconda3/envs/llm/lib/python3.8/site-packages (from langchain_openai) (1.37.1)\n",
      "Collecting tiktoken<1,>=0.7 (from langchain_openai)\n",
      "  Downloading tiktoken-0.7.0-cp38-cp38-macosx_10_9_x86_64.whl.metadata (6.6 kB)\n",
      "Requirement already satisfied: PyYAML>=5.3 in ./anaconda3/envs/llm/lib/python3.8/site-packages (from langchain-core<0.3.0,>=0.2.20->langchain_openai) (6.0.1)\n",
      "Requirement already satisfied: jsonpatch<2.0,>=1.33 in ./anaconda3/envs/llm/lib/python3.8/site-packages (from langchain-core<0.3.0,>=0.2.20->langchain_openai) (1.33)\n",
      "Requirement already satisfied: langsmith<0.2.0,>=0.1.75 in ./anaconda3/envs/llm/lib/python3.8/site-packages (from langchain-core<0.3.0,>=0.2.20->langchain_openai) (0.1.93)\n",
      "Requirement already satisfied: packaging<25,>=23.2 in ./anaconda3/envs/llm/lib/python3.8/site-packages (from langchain-core<0.3.0,>=0.2.20->langchain_openai) (24.1)\n",
      "Requirement already satisfied: pydantic<3,>=1 in ./anaconda3/envs/llm/lib/python3.8/site-packages (from langchain-core<0.3.0,>=0.2.20->langchain_openai) (2.8.2)\n",
      "Requirement already satisfied: tenacity!=8.4.0,<9.0.0,>=8.1.0 in ./anaconda3/envs/llm/lib/python3.8/site-packages (from langchain-core<0.3.0,>=0.2.20->langchain_openai) (8.5.0)\n",
      "Requirement already satisfied: anyio<5,>=3.5.0 in ./anaconda3/envs/llm/lib/python3.8/site-packages (from openai<2.0.0,>=1.32.0->langchain_openai) (4.4.0)\n",
      "Requirement already satisfied: distro<2,>=1.7.0 in ./anaconda3/envs/llm/lib/python3.8/site-packages (from openai<2.0.0,>=1.32.0->langchain_openai) (1.9.0)\n",
      "Requirement already satisfied: httpx<1,>=0.23.0 in ./anaconda3/envs/llm/lib/python3.8/site-packages (from openai<2.0.0,>=1.32.0->langchain_openai) (0.27.0)\n",
      "Requirement already satisfied: sniffio in ./anaconda3/envs/llm/lib/python3.8/site-packages (from openai<2.0.0,>=1.32.0->langchain_openai) (1.3.1)\n",
      "Requirement already satisfied: tqdm>4 in ./anaconda3/envs/llm/lib/python3.8/site-packages (from openai<2.0.0,>=1.32.0->langchain_openai) (4.66.4)\n",
      "Requirement already satisfied: typing-extensions<5,>=4.7 in ./anaconda3/envs/llm/lib/python3.8/site-packages (from openai<2.0.0,>=1.32.0->langchain_openai) (4.12.2)\n",
      "Collecting regex>=2022.1.18 (from tiktoken<1,>=0.7->langchain_openai)\n",
      "  Downloading regex-2024.7.24-cp38-cp38-macosx_10_9_x86_64.whl.metadata (40 kB)\n",
      "\u001b[2K     \u001b[38;2;114;156;31m━━━━━━━━━━━━━━━━━━━━━━━━━━━━━━━━━━━━━━━━\u001b[0m \u001b[32m40.5/40.5 kB\u001b[0m \u001b[31m58.7 MB/s\u001b[0m eta \u001b[36m0:00:00\u001b[0m\n",
      "\u001b[?25hRequirement already satisfied: requests>=2.26.0 in ./anaconda3/envs/llm/lib/python3.8/site-packages (from tiktoken<1,>=0.7->langchain_openai) (2.32.3)\n",
      "Requirement already satisfied: idna>=2.8 in ./anaconda3/envs/llm/lib/python3.8/site-packages (from anyio<5,>=3.5.0->openai<2.0.0,>=1.32.0->langchain_openai) (3.7)\n",
      "Requirement already satisfied: exceptiongroup>=1.0.2 in ./anaconda3/envs/llm/lib/python3.8/site-packages (from anyio<5,>=3.5.0->openai<2.0.0,>=1.32.0->langchain_openai) (1.2.2)\n",
      "Requirement already satisfied: certifi in ./anaconda3/envs/llm/lib/python3.8/site-packages (from httpx<1,>=0.23.0->openai<2.0.0,>=1.32.0->langchain_openai) (2024.7.4)\n",
      "Requirement already satisfied: httpcore==1.* in ./anaconda3/envs/llm/lib/python3.8/site-packages (from httpx<1,>=0.23.0->openai<2.0.0,>=1.32.0->langchain_openai) (1.0.5)\n",
      "Requirement already satisfied: h11<0.15,>=0.13 in ./anaconda3/envs/llm/lib/python3.8/site-packages (from httpcore==1.*->httpx<1,>=0.23.0->openai<2.0.0,>=1.32.0->langchain_openai) (0.14.0)\n",
      "Requirement already satisfied: jsonpointer>=1.9 in ./anaconda3/envs/llm/lib/python3.8/site-packages (from jsonpatch<2.0,>=1.33->langchain-core<0.3.0,>=0.2.20->langchain_openai) (3.0.0)\n",
      "Requirement already satisfied: orjson<4.0.0,>=3.9.14 in ./anaconda3/envs/llm/lib/python3.8/site-packages (from langsmith<0.2.0,>=0.1.75->langchain-core<0.3.0,>=0.2.20->langchain_openai) (3.10.6)\n",
      "Requirement already satisfied: annotated-types>=0.4.0 in ./anaconda3/envs/llm/lib/python3.8/site-packages (from pydantic<3,>=1->langchain-core<0.3.0,>=0.2.20->langchain_openai) (0.7.0)\n",
      "Requirement already satisfied: pydantic-core==2.20.1 in ./anaconda3/envs/llm/lib/python3.8/site-packages (from pydantic<3,>=1->langchain-core<0.3.0,>=0.2.20->langchain_openai) (2.20.1)\n",
      "Requirement already satisfied: charset-normalizer<4,>=2 in ./anaconda3/envs/llm/lib/python3.8/site-packages (from requests>=2.26.0->tiktoken<1,>=0.7->langchain_openai) (3.3.2)\n",
      "Requirement already satisfied: urllib3<3,>=1.21.1 in ./anaconda3/envs/llm/lib/python3.8/site-packages (from requests>=2.26.0->tiktoken<1,>=0.7->langchain_openai) (2.2.2)\n",
      "Downloading langchain_openai-0.1.17-py3-none-any.whl (46 kB)\n",
      "\u001b[2K   \u001b[38;2;114;156;31m━━━━━━━━━━━━━━━━━━━━━━━━━━━━━━━━━━━━━━━━\u001b[0m \u001b[32m46.7/46.7 kB\u001b[0m \u001b[31m50.6 MB/s\u001b[0m eta \u001b[36m0:00:00\u001b[0m\n",
      "\u001b[?25hDownloading tiktoken-0.7.0-cp38-cp38-macosx_10_9_x86_64.whl (961 kB)\n",
      "\u001b[2K   \u001b[38;2;114;156;31m━━━━━━━━━━━━━━━━━━━━━━━━━━━━━━━━━━━━━━━━\u001b[0m \u001b[32m962.0/962.0 kB\u001b[0m \u001b[31m12.1 MB/s\u001b[0m eta \u001b[36m0:00:00\u001b[0m MB/s\u001b[0m eta \u001b[36m0:00:01\u001b[0m:01\u001b[0m\n",
      "\u001b[?25hDownloading regex-2024.7.24-cp38-cp38-macosx_10_9_x86_64.whl (282 kB)\n",
      "\u001b[2K   \u001b[38;2;114;156;31m━━━━━━━━━━━━━━━━━━━━━━━━━━━━━━━━━━━━━━━━\u001b[0m \u001b[32m282.3/282.3 kB\u001b[0m \u001b[31m13.9 MB/s\u001b[0m eta \u001b[36m0:00:00\u001b[0m\n",
      "\u001b[?25hInstalling collected packages: regex, tiktoken, langchain_openai\n",
      "Successfully installed langchain_openai-0.1.17 regex-2024.7.24 tiktoken-0.7.0\n"
     ]
    }
   ],
   "source": [
    "!pip install langchain_openai"
   ]
  },
  {
   "cell_type": "code",
   "execution_count": 2,
   "id": "5fca150d-72b4-4b33-87bc-95d6fbfaff20",
   "metadata": {},
   "outputs": [
    {
     "name": "stdout",
     "output_type": "stream",
     "text": [
      "Looking in indexes: https://pypi.org/simple, https://pypi.ngc.nvidia.com\n",
      "Collecting openai\n",
      "  Downloading openai-1.37.1-py3-none-any.whl.metadata (22 kB)\n",
      "Requirement already satisfied: anyio<5,>=3.5.0 in ./anaconda3/envs/llm/lib/python3.8/site-packages (from openai) (4.4.0)\n",
      "Collecting distro<2,>=1.7.0 (from openai)\n",
      "  Downloading distro-1.9.0-py3-none-any.whl.metadata (6.8 kB)\n",
      "Requirement already satisfied: httpx<1,>=0.23.0 in ./anaconda3/envs/llm/lib/python3.8/site-packages (from openai) (0.27.0)\n",
      "Requirement already satisfied: pydantic<3,>=1.9.0 in ./anaconda3/envs/llm/lib/python3.8/site-packages (from openai) (2.8.2)\n",
      "Requirement already satisfied: sniffio in ./anaconda3/envs/llm/lib/python3.8/site-packages (from openai) (1.3.1)\n",
      "Collecting tqdm>4 (from openai)\n",
      "  Downloading tqdm-4.66.4-py3-none-any.whl.metadata (57 kB)\n",
      "\u001b[2K     \u001b[38;2;114;156;31m━━━━━━━━━━━━━━━━━━━━━━━━━━━━━━━━━━━━━━━━\u001b[0m \u001b[32m57.6/57.6 kB\u001b[0m \u001b[31m21.8 MB/s\u001b[0m eta \u001b[36m0:00:00\u001b[0m\n",
      "\u001b[?25hRequirement already satisfied: typing-extensions<5,>=4.7 in ./anaconda3/envs/llm/lib/python3.8/site-packages (from openai) (4.12.2)\n",
      "Requirement already satisfied: idna>=2.8 in ./anaconda3/envs/llm/lib/python3.8/site-packages (from anyio<5,>=3.5.0->openai) (3.7)\n",
      "Requirement already satisfied: exceptiongroup>=1.0.2 in ./anaconda3/envs/llm/lib/python3.8/site-packages (from anyio<5,>=3.5.0->openai) (1.2.2)\n",
      "Requirement already satisfied: certifi in ./anaconda3/envs/llm/lib/python3.8/site-packages (from httpx<1,>=0.23.0->openai) (2024.7.4)\n",
      "Requirement already satisfied: httpcore==1.* in ./anaconda3/envs/llm/lib/python3.8/site-packages (from httpx<1,>=0.23.0->openai) (1.0.5)\n",
      "Requirement already satisfied: h11<0.15,>=0.13 in ./anaconda3/envs/llm/lib/python3.8/site-packages (from httpcore==1.*->httpx<1,>=0.23.0->openai) (0.14.0)\n",
      "Requirement already satisfied: annotated-types>=0.4.0 in ./anaconda3/envs/llm/lib/python3.8/site-packages (from pydantic<3,>=1.9.0->openai) (0.7.0)\n",
      "Requirement already satisfied: pydantic-core==2.20.1 in ./anaconda3/envs/llm/lib/python3.8/site-packages (from pydantic<3,>=1.9.0->openai) (2.20.1)\n",
      "Downloading openai-1.37.1-py3-none-any.whl (337 kB)\n",
      "\u001b[2K   \u001b[38;2;114;156;31m━━━━━━━━━━━━━━━━━━━━━━━━━━━━━━━━━━━━━━━━\u001b[0m \u001b[32m337.0/337.0 kB\u001b[0m \u001b[31m12.2 MB/s\u001b[0m eta \u001b[36m0:00:00\u001b[0m\n",
      "\u001b[?25hDownloading distro-1.9.0-py3-none-any.whl (20 kB)\n",
      "Downloading tqdm-4.66.4-py3-none-any.whl (78 kB)\n",
      "\u001b[2K   \u001b[38;2;114;156;31m━━━━━━━━━━━━━━━━━━━━━━━━━━━━━━━━━━━━━━━━\u001b[0m \u001b[32m78.3/78.3 kB\u001b[0m \u001b[31m24.6 MB/s\u001b[0m eta \u001b[36m0:00:00\u001b[0m\n",
      "\u001b[?25hInstalling collected packages: tqdm, distro, openai\n",
      "Successfully installed distro-1.9.0 openai-1.37.1 tqdm-4.66.4\n"
     ]
    }
   ],
   "source": [
    "!pip install openai"
   ]
  },
  {
   "cell_type": "code",
   "execution_count": 44,
   "id": "2bad9835",
   "metadata": {},
   "outputs": [
    {
     "name": "stdout",
     "output_type": "stream",
     "text": [
      "Looking in indexes: https://pypi.org/simple, https://pypi.ngc.nvidia.com\n",
      "Collecting langchain_huggingface\n",
      "  Downloading langchain_huggingface-0.0.3-py3-none-any.whl.metadata (1.2 kB)\n",
      "Requirement already satisfied: huggingface-hub>=0.23.0 in ./anaconda3/envs/llm/lib/python3.8/site-packages (from langchain_huggingface) (0.24.2)\n",
      "Requirement already satisfied: langchain-core<0.3,>=0.1.52 in ./anaconda3/envs/llm/lib/python3.8/site-packages (from langchain_huggingface) (0.2.23)\n",
      "Requirement already satisfied: sentence-transformers>=2.6.0 in ./anaconda3/envs/llm/lib/python3.8/site-packages (from langchain_huggingface) (3.0.1)\n",
      "Requirement already satisfied: tokenizers>=0.19.1 in ./anaconda3/envs/llm/lib/python3.8/site-packages (from langchain_huggingface) (0.19.1)\n",
      "Requirement already satisfied: transformers>=4.39.0 in ./anaconda3/envs/llm/lib/python3.8/site-packages (from langchain_huggingface) (4.43.2)\n",
      "Requirement already satisfied: filelock in ./anaconda3/envs/llm/lib/python3.8/site-packages (from huggingface-hub>=0.23.0->langchain_huggingface) (3.15.4)\n",
      "Requirement already satisfied: fsspec>=2023.5.0 in ./anaconda3/envs/llm/lib/python3.8/site-packages (from huggingface-hub>=0.23.0->langchain_huggingface) (2024.6.1)\n",
      "Requirement already satisfied: packaging>=20.9 in ./anaconda3/envs/llm/lib/python3.8/site-packages (from huggingface-hub>=0.23.0->langchain_huggingface) (24.1)\n",
      "Requirement already satisfied: pyyaml>=5.1 in ./anaconda3/envs/llm/lib/python3.8/site-packages (from huggingface-hub>=0.23.0->langchain_huggingface) (6.0.1)\n",
      "Requirement already satisfied: requests in ./anaconda3/envs/llm/lib/python3.8/site-packages (from huggingface-hub>=0.23.0->langchain_huggingface) (2.32.3)\n",
      "Requirement already satisfied: tqdm>=4.42.1 in ./anaconda3/envs/llm/lib/python3.8/site-packages (from huggingface-hub>=0.23.0->langchain_huggingface) (4.66.4)\n",
      "Requirement already satisfied: typing-extensions>=3.7.4.3 in ./anaconda3/envs/llm/lib/python3.8/site-packages (from huggingface-hub>=0.23.0->langchain_huggingface) (4.12.2)\n",
      "Requirement already satisfied: jsonpatch<2.0,>=1.33 in ./anaconda3/envs/llm/lib/python3.8/site-packages (from langchain-core<0.3,>=0.1.52->langchain_huggingface) (1.33)\n",
      "Requirement already satisfied: langsmith<0.2.0,>=0.1.75 in ./anaconda3/envs/llm/lib/python3.8/site-packages (from langchain-core<0.3,>=0.1.52->langchain_huggingface) (0.1.93)\n",
      "Requirement already satisfied: pydantic<3,>=1 in ./anaconda3/envs/llm/lib/python3.8/site-packages (from langchain-core<0.3,>=0.1.52->langchain_huggingface) (2.8.2)\n",
      "Requirement already satisfied: tenacity!=8.4.0,<9.0.0,>=8.1.0 in ./anaconda3/envs/llm/lib/python3.8/site-packages (from langchain-core<0.3,>=0.1.52->langchain_huggingface) (8.5.0)\n",
      "Requirement already satisfied: torch>=1.11.0 in ./anaconda3/envs/llm/lib/python3.8/site-packages (from sentence-transformers>=2.6.0->langchain_huggingface) (2.2.2)\n",
      "Requirement already satisfied: numpy in ./anaconda3/envs/llm/lib/python3.8/site-packages (from sentence-transformers>=2.6.0->langchain_huggingface) (1.24.4)\n",
      "Requirement already satisfied: scikit-learn in ./anaconda3/envs/llm/lib/python3.8/site-packages (from sentence-transformers>=2.6.0->langchain_huggingface) (1.3.2)\n",
      "Requirement already satisfied: scipy in ./anaconda3/envs/llm/lib/python3.8/site-packages (from sentence-transformers>=2.6.0->langchain_huggingface) (1.10.1)\n",
      "Requirement already satisfied: Pillow in ./anaconda3/envs/llm/lib/python3.8/site-packages (from sentence-transformers>=2.6.0->langchain_huggingface) (10.4.0)\n",
      "Requirement already satisfied: regex!=2019.12.17 in ./anaconda3/envs/llm/lib/python3.8/site-packages (from transformers>=4.39.0->langchain_huggingface) (2024.7.24)\n",
      "Requirement already satisfied: safetensors>=0.4.1 in ./anaconda3/envs/llm/lib/python3.8/site-packages (from transformers>=4.39.0->langchain_huggingface) (0.4.3)\n",
      "Requirement already satisfied: jsonpointer>=1.9 in ./anaconda3/envs/llm/lib/python3.8/site-packages (from jsonpatch<2.0,>=1.33->langchain-core<0.3,>=0.1.52->langchain_huggingface) (3.0.0)\n",
      "Requirement already satisfied: orjson<4.0.0,>=3.9.14 in ./anaconda3/envs/llm/lib/python3.8/site-packages (from langsmith<0.2.0,>=0.1.75->langchain-core<0.3,>=0.1.52->langchain_huggingface) (3.10.6)\n",
      "Requirement already satisfied: annotated-types>=0.4.0 in ./anaconda3/envs/llm/lib/python3.8/site-packages (from pydantic<3,>=1->langchain-core<0.3,>=0.1.52->langchain_huggingface) (0.7.0)\n",
      "Requirement already satisfied: pydantic-core==2.20.1 in ./anaconda3/envs/llm/lib/python3.8/site-packages (from pydantic<3,>=1->langchain-core<0.3,>=0.1.52->langchain_huggingface) (2.20.1)\n",
      "Requirement already satisfied: charset-normalizer<4,>=2 in ./anaconda3/envs/llm/lib/python3.8/site-packages (from requests->huggingface-hub>=0.23.0->langchain_huggingface) (3.3.2)\n",
      "Requirement already satisfied: idna<4,>=2.5 in ./anaconda3/envs/llm/lib/python3.8/site-packages (from requests->huggingface-hub>=0.23.0->langchain_huggingface) (3.7)\n",
      "Requirement already satisfied: urllib3<3,>=1.21.1 in ./anaconda3/envs/llm/lib/python3.8/site-packages (from requests->huggingface-hub>=0.23.0->langchain_huggingface) (2.2.2)\n",
      "Requirement already satisfied: certifi>=2017.4.17 in ./anaconda3/envs/llm/lib/python3.8/site-packages (from requests->huggingface-hub>=0.23.0->langchain_huggingface) (2024.7.4)\n",
      "Requirement already satisfied: sympy in ./anaconda3/envs/llm/lib/python3.8/site-packages (from torch>=1.11.0->sentence-transformers>=2.6.0->langchain_huggingface) (1.13.1)\n",
      "Requirement already satisfied: networkx in ./anaconda3/envs/llm/lib/python3.8/site-packages (from torch>=1.11.0->sentence-transformers>=2.6.0->langchain_huggingface) (3.1)\n",
      "Requirement already satisfied: jinja2 in ./anaconda3/envs/llm/lib/python3.8/site-packages (from torch>=1.11.0->sentence-transformers>=2.6.0->langchain_huggingface) (3.1.4)\n",
      "Requirement already satisfied: joblib>=1.1.1 in ./anaconda3/envs/llm/lib/python3.8/site-packages (from scikit-learn->sentence-transformers>=2.6.0->langchain_huggingface) (1.4.2)\n",
      "Requirement already satisfied: threadpoolctl>=2.0.0 in ./anaconda3/envs/llm/lib/python3.8/site-packages (from scikit-learn->sentence-transformers>=2.6.0->langchain_huggingface) (3.5.0)\n",
      "Requirement already satisfied: MarkupSafe>=2.0 in ./anaconda3/envs/llm/lib/python3.8/site-packages (from jinja2->torch>=1.11.0->sentence-transformers>=2.6.0->langchain_huggingface) (2.1.5)\n",
      "Requirement already satisfied: mpmath<1.4,>=1.1.0 in ./anaconda3/envs/llm/lib/python3.8/site-packages (from sympy->torch>=1.11.0->sentence-transformers>=2.6.0->langchain_huggingface) (1.3.0)\n",
      "Downloading langchain_huggingface-0.0.3-py3-none-any.whl (17 kB)\n",
      "Installing collected packages: langchain_huggingface\n",
      "Successfully installed langchain_huggingface-0.0.3\n"
     ]
    }
   ],
   "source": [
    "!pip install langchain_huggingface"
   ]
  },
  {
   "cell_type": "code",
   "execution_count": 3,
   "id": "e42fecb7-59d3-4662-9a05-1dbb122beda6",
   "metadata": {},
   "outputs": [
    {
     "name": "stdout",
     "output_type": "stream",
     "text": [
      "Looking in indexes: https://pypi.org/simple, https://pypi.ngc.nvidia.com\n",
      "Collecting huggingface-hub\n",
      "  Downloading huggingface_hub-0.24.2-py3-none-any.whl.metadata (13 kB)\n",
      "Collecting filelock (from huggingface-hub)\n",
      "  Downloading filelock-3.15.4-py3-none-any.whl.metadata (2.9 kB)\n",
      "Collecting fsspec>=2023.5.0 (from huggingface-hub)\n",
      "  Downloading fsspec-2024.6.1-py3-none-any.whl.metadata (11 kB)\n",
      "Requirement already satisfied: packaging>=20.9 in ./anaconda3/envs/llm/lib/python3.8/site-packages (from huggingface-hub) (24.1)\n",
      "Requirement already satisfied: pyyaml>=5.1 in ./anaconda3/envs/llm/lib/python3.8/site-packages (from huggingface-hub) (6.0.1)\n",
      "Requirement already satisfied: requests in ./anaconda3/envs/llm/lib/python3.8/site-packages (from huggingface-hub) (2.32.3)\n",
      "Requirement already satisfied: tqdm>=4.42.1 in ./anaconda3/envs/llm/lib/python3.8/site-packages (from huggingface-hub) (4.66.4)\n",
      "Requirement already satisfied: typing-extensions>=3.7.4.3 in ./anaconda3/envs/llm/lib/python3.8/site-packages (from huggingface-hub) (4.12.2)\n",
      "Requirement already satisfied: charset-normalizer<4,>=2 in ./anaconda3/envs/llm/lib/python3.8/site-packages (from requests->huggingface-hub) (3.3.2)\n",
      "Requirement already satisfied: idna<4,>=2.5 in ./anaconda3/envs/llm/lib/python3.8/site-packages (from requests->huggingface-hub) (3.7)\n",
      "Requirement already satisfied: urllib3<3,>=1.21.1 in ./anaconda3/envs/llm/lib/python3.8/site-packages (from requests->huggingface-hub) (2.2.2)\n",
      "Requirement already satisfied: certifi>=2017.4.17 in ./anaconda3/envs/llm/lib/python3.8/site-packages (from requests->huggingface-hub) (2024.7.4)\n",
      "Downloading huggingface_hub-0.24.2-py3-none-any.whl (417 kB)\n",
      "\u001b[2K   \u001b[38;2;114;156;31m━━━━━━━━━━━━━━━━━━━━━━━━━━━━━━━━━━━━━━━━\u001b[0m \u001b[32m417.2/417.2 kB\u001b[0m \u001b[31m12.0 MB/s\u001b[0m eta \u001b[36m0:00:00\u001b[0m\n",
      "\u001b[?25hDownloading fsspec-2024.6.1-py3-none-any.whl (177 kB)\n",
      "\u001b[2K   \u001b[38;2;114;156;31m━━━━━━━━━━━━━━━━━━━━━━━━━━━━━━━━━━━━━━━━\u001b[0m \u001b[32m177.6/177.6 kB\u001b[0m \u001b[31m14.0 MB/s\u001b[0m eta \u001b[36m0:00:00\u001b[0m\n",
      "\u001b[?25hDownloading filelock-3.15.4-py3-none-any.whl (16 kB)\n",
      "Installing collected packages: fsspec, filelock, huggingface-hub\n",
      "Successfully installed filelock-3.15.4 fsspec-2024.6.1 huggingface-hub-0.24.2\n"
     ]
    }
   ],
   "source": [
    "!pip install huggingface-hub"
   ]
  },
  {
   "cell_type": "code",
   "execution_count": 4,
   "id": "fad1bbe6-920e-4c9e-9cd8-4c3055bc330b",
   "metadata": {},
   "outputs": [
    {
     "name": "stdout",
     "output_type": "stream",
     "text": [
      "Looking in indexes: https://pypi.org/simple, https://pypi.ngc.nvidia.com\n",
      "Collecting streamlit\n",
      "  Downloading streamlit-1.37.0-py2.py3-none-any.whl.metadata (8.5 kB)\n",
      "Collecting altair<6,>=4.0 (from streamlit)\n",
      "  Downloading altair-5.3.0-py3-none-any.whl.metadata (9.2 kB)\n",
      "Collecting blinker<2,>=1.0.0 (from streamlit)\n",
      "  Downloading blinker-1.8.2-py3-none-any.whl.metadata (1.6 kB)\n",
      "Collecting cachetools<6,>=4.0 (from streamlit)\n",
      "  Downloading cachetools-5.4.0-py3-none-any.whl.metadata (5.3 kB)\n",
      "Collecting click<9,>=7.0 (from streamlit)\n",
      "  Downloading click-8.1.7-py3-none-any.whl.metadata (3.0 kB)\n",
      "Requirement already satisfied: numpy<3,>=1.20 in ./anaconda3/envs/llm/lib/python3.8/site-packages (from streamlit) (1.24.4)\n",
      "Requirement already satisfied: packaging<25,>=20 in ./anaconda3/envs/llm/lib/python3.8/site-packages (from streamlit) (24.1)\n",
      "Collecting pandas<3,>=1.3.0 (from streamlit)\n",
      "  Downloading pandas-2.0.3-cp38-cp38-macosx_10_9_x86_64.whl.metadata (18 kB)\n",
      "Collecting pillow<11,>=7.1.0 (from streamlit)\n",
      "  Downloading pillow-10.4.0-cp38-cp38-macosx_10_10_x86_64.whl.metadata (9.2 kB)\n",
      "Collecting protobuf<6,>=3.20 (from streamlit)\n",
      "  Downloading protobuf-5.27.2-cp38-abi3-macosx_10_9_universal2.whl.metadata (592 bytes)\n",
      "Collecting pyarrow>=7.0 (from streamlit)\n",
      "  Downloading pyarrow-17.0.0-cp38-cp38-macosx_10_15_x86_64.whl.metadata (3.3 kB)\n",
      "Requirement already satisfied: requests<3,>=2.27 in ./anaconda3/envs/llm/lib/python3.8/site-packages (from streamlit) (2.32.3)\n",
      "Collecting rich<14,>=10.14.0 (from streamlit)\n",
      "  Downloading rich-13.7.1-py3-none-any.whl.metadata (18 kB)\n",
      "Requirement already satisfied: tenacity<9,>=8.1.0 in ./anaconda3/envs/llm/lib/python3.8/site-packages (from streamlit) (8.5.0)\n",
      "Collecting toml<2,>=0.10.1 (from streamlit)\n",
      "  Downloading toml-0.10.2-py2.py3-none-any.whl.metadata (7.1 kB)\n",
      "Requirement already satisfied: typing-extensions<5,>=4.3.0 in ./anaconda3/envs/llm/lib/python3.8/site-packages (from streamlit) (4.12.2)\n",
      "Collecting gitpython!=3.1.19,<4,>=3.0.7 (from streamlit)\n",
      "  Downloading GitPython-3.1.43-py3-none-any.whl.metadata (13 kB)\n",
      "Collecting pydeck<1,>=0.8.0b4 (from streamlit)\n",
      "  Downloading pydeck-0.9.1-py2.py3-none-any.whl.metadata (4.1 kB)\n",
      "Requirement already satisfied: tornado<7,>=6.0.3 in ./anaconda3/envs/llm/lib/python3.8/site-packages (from streamlit) (6.4.1)\n",
      "Requirement already satisfied: jinja2 in ./anaconda3/envs/llm/lib/python3.8/site-packages (from altair<6,>=4.0->streamlit) (3.1.4)\n",
      "Requirement already satisfied: jsonschema>=3.0 in ./anaconda3/envs/llm/lib/python3.8/site-packages (from altair<6,>=4.0->streamlit) (4.23.0)\n",
      "Collecting toolz (from altair<6,>=4.0->streamlit)\n",
      "  Downloading toolz-0.12.1-py3-none-any.whl.metadata (5.1 kB)\n",
      "Collecting gitdb<5,>=4.0.1 (from gitpython!=3.1.19,<4,>=3.0.7->streamlit)\n",
      "  Downloading gitdb-4.0.11-py3-none-any.whl.metadata (1.2 kB)\n",
      "Requirement already satisfied: python-dateutil>=2.8.2 in ./anaconda3/envs/llm/lib/python3.8/site-packages (from pandas<3,>=1.3.0->streamlit) (2.9.0.post0)\n",
      "Requirement already satisfied: pytz>=2020.1 in ./anaconda3/envs/llm/lib/python3.8/site-packages (from pandas<3,>=1.3.0->streamlit) (2024.1)\n",
      "Collecting tzdata>=2022.1 (from pandas<3,>=1.3.0->streamlit)\n",
      "  Downloading tzdata-2024.1-py2.py3-none-any.whl.metadata (1.4 kB)\n",
      "Requirement already satisfied: charset-normalizer<4,>=2 in ./anaconda3/envs/llm/lib/python3.8/site-packages (from requests<3,>=2.27->streamlit) (3.3.2)\n",
      "Requirement already satisfied: idna<4,>=2.5 in ./anaconda3/envs/llm/lib/python3.8/site-packages (from requests<3,>=2.27->streamlit) (3.7)\n",
      "Requirement already satisfied: urllib3<3,>=1.21.1 in ./anaconda3/envs/llm/lib/python3.8/site-packages (from requests<3,>=2.27->streamlit) (2.2.2)\n",
      "Requirement already satisfied: certifi>=2017.4.17 in ./anaconda3/envs/llm/lib/python3.8/site-packages (from requests<3,>=2.27->streamlit) (2024.7.4)\n",
      "Collecting markdown-it-py>=2.2.0 (from rich<14,>=10.14.0->streamlit)\n",
      "  Downloading markdown_it_py-3.0.0-py3-none-any.whl.metadata (6.9 kB)\n",
      "Requirement already satisfied: pygments<3.0.0,>=2.13.0 in ./anaconda3/envs/llm/lib/python3.8/site-packages (from rich<14,>=10.14.0->streamlit) (2.18.0)\n",
      "Collecting smmap<6,>=3.0.1 (from gitdb<5,>=4.0.1->gitpython!=3.1.19,<4,>=3.0.7->streamlit)\n",
      "  Downloading smmap-5.0.1-py3-none-any.whl.metadata (4.3 kB)\n",
      "Requirement already satisfied: MarkupSafe>=2.0 in ./anaconda3/envs/llm/lib/python3.8/site-packages (from jinja2->altair<6,>=4.0->streamlit) (2.1.5)\n",
      "Requirement already satisfied: attrs>=22.2.0 in ./anaconda3/envs/llm/lib/python3.8/site-packages (from jsonschema>=3.0->altair<6,>=4.0->streamlit) (23.2.0)\n",
      "Requirement already satisfied: importlib-resources>=1.4.0 in ./anaconda3/envs/llm/lib/python3.8/site-packages (from jsonschema>=3.0->altair<6,>=4.0->streamlit) (6.4.0)\n",
      "Requirement already satisfied: jsonschema-specifications>=2023.03.6 in ./anaconda3/envs/llm/lib/python3.8/site-packages (from jsonschema>=3.0->altair<6,>=4.0->streamlit) (2023.12.1)\n",
      "Requirement already satisfied: pkgutil-resolve-name>=1.3.10 in ./anaconda3/envs/llm/lib/python3.8/site-packages (from jsonschema>=3.0->altair<6,>=4.0->streamlit) (1.3.10)\n",
      "Requirement already satisfied: referencing>=0.28.4 in ./anaconda3/envs/llm/lib/python3.8/site-packages (from jsonschema>=3.0->altair<6,>=4.0->streamlit) (0.35.1)\n",
      "Requirement already satisfied: rpds-py>=0.7.1 in ./anaconda3/envs/llm/lib/python3.8/site-packages (from jsonschema>=3.0->altair<6,>=4.0->streamlit) (0.19.1)\n",
      "Collecting mdurl~=0.1 (from markdown-it-py>=2.2.0->rich<14,>=10.14.0->streamlit)\n",
      "  Downloading mdurl-0.1.2-py3-none-any.whl.metadata (1.6 kB)\n",
      "Requirement already satisfied: six>=1.5 in ./anaconda3/envs/llm/lib/python3.8/site-packages (from python-dateutil>=2.8.2->pandas<3,>=1.3.0->streamlit) (1.16.0)\n",
      "Requirement already satisfied: zipp>=3.1.0 in ./anaconda3/envs/llm/lib/python3.8/site-packages (from importlib-resources>=1.4.0->jsonschema>=3.0->altair<6,>=4.0->streamlit) (3.19.2)\n",
      "Downloading streamlit-1.37.0-py2.py3-none-any.whl (8.7 MB)\n",
      "\u001b[2K   \u001b[38;2;114;156;31m━━━━━━━━━━━━━━━━━━━━━━━━━━━━━━━━━━━━━━━━\u001b[0m \u001b[32m8.7/8.7 MB\u001b[0m \u001b[31m11.8 MB/s\u001b[0m eta \u001b[36m0:00:00\u001b[0m[36m0:00:01\u001b[0m[36m0:00:01\u001b[0m:01\u001b[0m\n",
      "\u001b[?25hDownloading altair-5.3.0-py3-none-any.whl (857 kB)\n",
      "\u001b[2K   \u001b[38;2;114;156;31m━━━━━━━━━━━━━━━━━━━━━━━━━━━━━━━━━━━━━━━━\u001b[0m \u001b[32m857.8/857.8 kB\u001b[0m \u001b[31m10.9 MB/s\u001b[0m eta \u001b[36m0:00:00\u001b[0m31m11.8 MB/s\u001b[0m eta \u001b[36m0:00:01\u001b[0m\n",
      "\u001b[?25hDownloading blinker-1.8.2-py3-none-any.whl (9.5 kB)\n",
      "Downloading cachetools-5.4.0-py3-none-any.whl (9.5 kB)\n",
      "Downloading click-8.1.7-py3-none-any.whl (97 kB)\n",
      "\u001b[2K   \u001b[38;2;114;156;31m━━━━━━━━━━━━━━━━━━━━━━━━━━━━━━━━━━━━━━━━\u001b[0m \u001b[32m97.9/97.9 kB\u001b[0m \u001b[31m14.1 MB/s\u001b[0m eta \u001b[36m0:00:00\u001b[0m\n",
      "\u001b[?25hDownloading GitPython-3.1.43-py3-none-any.whl (207 kB)\n",
      "\u001b[2K   \u001b[38;2;114;156;31m━━━━━━━━━━━━━━━━━━━━━━━━━━━━━━━━━━━━━━━━\u001b[0m \u001b[32m207.3/207.3 kB\u001b[0m \u001b[31m13.6 MB/s\u001b[0m eta \u001b[36m0:00:00\u001b[0m\n",
      "\u001b[?25hDownloading pandas-2.0.3-cp38-cp38-macosx_10_9_x86_64.whl (11.7 MB)\n",
      "\u001b[2K   \u001b[38;2;114;156;31m━━━━━━━━━━━━━━━━━━━━━━━━━━━━━━━━━━━━━━━━\u001b[0m \u001b[32m11.7/11.7 MB\u001b[0m \u001b[31m11.7 MB/s\u001b[0m eta \u001b[36m0:00:00\u001b[0m[36m0:00:01\u001b[0m[36m0:00:01\u001b[0m:01\u001b[0m\n",
      "\u001b[?25hDownloading pillow-10.4.0-cp38-cp38-macosx_10_10_x86_64.whl (3.5 MB)\n",
      "\u001b[2K   \u001b[38;2;114;156;31m━━━━━━━━━━━━━━━━━━━━━━━━━━━━━━━━━━━━━━━━\u001b[0m \u001b[32m3.5/3.5 MB\u001b[0m \u001b[31m11.8 MB/s\u001b[0m eta \u001b[36m0:00:00\u001b[0m[36m0:00:01\u001b[0m[36m0:00:01\u001b[0m:01\u001b[0m\n",
      "\u001b[?25hDownloading protobuf-5.27.2-cp38-abi3-macosx_10_9_universal2.whl (412 kB)\n",
      "\u001b[2K   \u001b[38;2;114;156;31m━━━━━━━━━━━━━━━━━━━━━━━━━━━━━━━━━━━━━━━━\u001b[0m \u001b[32m412.2/412.2 kB\u001b[0m \u001b[31m11.2 MB/s\u001b[0m eta \u001b[36m0:00:00\u001b[0m31m11.3 MB/s\u001b[0m eta \u001b[36m0:00:01\u001b[0m\n",
      "\u001b[?25hDownloading pyarrow-17.0.0-cp38-cp38-macosx_10_15_x86_64.whl (29.0 MB)\n",
      "\u001b[2K   \u001b[38;2;114;156;31m━━━━━━━━━━━━━━━━━━━━━━━━━━━━━━━━━━━━━━━━\u001b[0m \u001b[32m29.0/29.0 MB\u001b[0m \u001b[31m11.6 MB/s\u001b[0m eta \u001b[36m0:00:00\u001b[0m[36m0:00:01\u001b[0m[36m0:00:01\u001b[0m:01\u001b[0m\n",
      "\u001b[?25hDownloading pydeck-0.9.1-py2.py3-none-any.whl (6.9 MB)\n",
      "\u001b[2K   \u001b[38;2;114;156;31m━━━━━━━━━━━━━━━━━━━━━━━━━━━━━━━━━━━━━━━━\u001b[0m \u001b[32m6.9/6.9 MB\u001b[0m \u001b[31m11.5 MB/s\u001b[0m eta \u001b[36m0:00:00\u001b[0m MB/s\u001b[0m eta \u001b[36m0:00:01\u001b[0m:01\u001b[0m\n",
      "\u001b[?25hDownloading rich-13.7.1-py3-none-any.whl (240 kB)\n",
      "\u001b[2K   \u001b[38;2;114;156;31m━━━━━━━━━━━━━━━━━━━━━━━━━━━━━━━━━━━━━━━━\u001b[0m \u001b[32m240.7/240.7 kB\u001b[0m \u001b[31m12.7 MB/s\u001b[0m eta \u001b[36m0:00:00\u001b[0m\n",
      "\u001b[?25hDownloading toml-0.10.2-py2.py3-none-any.whl (16 kB)\n",
      "Downloading gitdb-4.0.11-py3-none-any.whl (62 kB)\n",
      "\u001b[2K   \u001b[38;2;114;156;31m━━━━━━━━━━━━━━━━━━━━━━━━━━━━━━━━━━━━━━━━\u001b[0m \u001b[32m62.7/62.7 kB\u001b[0m \u001b[31m18.5 MB/s\u001b[0m eta \u001b[36m0:00:00\u001b[0m\n",
      "\u001b[?25hDownloading markdown_it_py-3.0.0-py3-none-any.whl (87 kB)\n",
      "\u001b[2K   \u001b[38;2;114;156;31m━━━━━━━━━━━━━━━━━━━━━━━━━━━━━━━━━━━━━━━━\u001b[0m \u001b[32m87.5/87.5 kB\u001b[0m \u001b[31m17.4 MB/s\u001b[0m eta \u001b[36m0:00:00\u001b[0m\n",
      "\u001b[?25hDownloading tzdata-2024.1-py2.py3-none-any.whl (345 kB)\n",
      "\u001b[2K   \u001b[38;2;114;156;31m━━━━━━━━━━━━━━━━━━━━━━━━━━━━━━━━━━━━━━━━\u001b[0m \u001b[32m345.4/345.4 kB\u001b[0m \u001b[31m12.8 MB/s\u001b[0m eta \u001b[36m0:00:00\u001b[0m\n",
      "\u001b[?25hDownloading toolz-0.12.1-py3-none-any.whl (56 kB)\n",
      "\u001b[2K   \u001b[38;2;114;156;31m━━━━━━━━━━━━━━━━━━━━━━━━━━━━━━━━━━━━━━━━\u001b[0m \u001b[32m56.1/56.1 kB\u001b[0m \u001b[31m94.7 MB/s\u001b[0m eta \u001b[36m0:00:00\u001b[0m\n",
      "\u001b[?25hDownloading mdurl-0.1.2-py3-none-any.whl (10.0 kB)\n",
      "Downloading smmap-5.0.1-py3-none-any.whl (24 kB)\n",
      "Installing collected packages: tzdata, toolz, toml, smmap, pyarrow, protobuf, pillow, mdurl, click, cachetools, blinker, pydeck, pandas, markdown-it-py, gitdb, rich, gitpython, altair, streamlit\n",
      "Successfully installed altair-5.3.0 blinker-1.8.2 cachetools-5.4.0 click-8.1.7 gitdb-4.0.11 gitpython-3.1.43 markdown-it-py-3.0.0 mdurl-0.1.2 pandas-2.0.3 pillow-10.4.0 protobuf-5.27.2 pyarrow-17.0.0 pydeck-0.9.1 rich-13.7.1 smmap-5.0.1 streamlit-1.37.0 toml-0.10.2 toolz-0.12.1 tzdata-2024.1\n"
     ]
    }
   ],
   "source": [
    "!pip install streamlit"
   ]
  },
  {
   "cell_type": "code",
   "execution_count": 1,
   "id": "d4e3879b-a81d-48fc-b9ab-566b75089136",
   "metadata": {},
   "outputs": [
    {
     "name": "stdout",
     "output_type": "stream",
     "text": [
      "Looking in indexes: https://pypi.org/simple, https://pypi.ngc.nvidia.com\n",
      "Collecting python-dotenv\n",
      "  Downloading python_dotenv-1.0.1-py3-none-any.whl.metadata (23 kB)\n",
      "Downloading python_dotenv-1.0.1-py3-none-any.whl (19 kB)\n",
      "Installing collected packages: python-dotenv\n",
      "Successfully installed python-dotenv-1.0.1\n"
     ]
    }
   ],
   "source": [
    "!pip install python-dotenv"
   ]
  },
  {
   "cell_type": "code",
   "execution_count": 9,
   "id": "c616647e-1c03-4924-8488-38224439df02",
   "metadata": {},
   "outputs": [
    {
     "data": {
      "text/plain": [
       "True"
      ]
     },
     "execution_count": 9,
     "metadata": {},
     "output_type": "execute_result"
    }
   ],
   "source": [
    "from dotenv import load_dotenv\n",
    "\n",
    "load_dotenv()"
   ]
  },
  {
   "cell_type": "markdown",
   "id": "597351d5-7dbc-45e0-9e5a-16c8cb519e26",
   "metadata": {},
   "source": [
    "### 모델 I/O 실습 "
   ]
  },
  {
   "cell_type": "code",
   "execution_count": 9,
   "id": "6e674a9e-7e03-45c8-b788-9614a8cefab8",
   "metadata": {},
   "outputs": [
    {
     "data": {
      "text/plain": [
       "'카메라를 홍보하기 위한 좋은 문구를 추천해줘?'"
      ]
     },
     "execution_count": 9,
     "metadata": {},
     "output_type": "execute_result"
    }
   ],
   "source": [
    "from langchain import PromptTemplate # PromptTemplate : LLM에 문장 전달 전 문장 구성을 편리하게 만들어주는 역할\n",
    "template = \"{product}를 홍보하기 위한 좋은 문구를 추천해줘?\"\n",
    "\n",
    "prompt = PromptTemplate(\n",
    "    input_variables=[\"product\"],\n",
    "    template=template,\n",
    ")\n",
    "\n",
    "prompt.format(product='카메라')"
   ]
  },
  {
   "cell_type": "code",
   "execution_count": 15,
   "id": "45ce91b8-0558-417c-a0bc-b1e99ac3496d",
   "metadata": {},
   "outputs": [
    {
     "name": "stdout",
     "output_type": "stream",
     "text": [
      "강아지입니다.\n"
     ]
    }
   ],
   "source": [
    "from langchain_openai import ChatOpenAI\n",
    "llm1 = ChatOpenAI(\n",
    "    temperature=0, # 창의성 0으로 설정\n",
    "    model_name='gpt-4',\n",
    ")\n",
    "\n",
    "prompt = \"진희는 강아지를 키우고 있습니다. 진희가 키우고 있는 동물은?\"\n",
    "print(llm1.predict(prompt))"
   ]
  },
  {
   "cell_type": "code",
   "execution_count": 29,
   "id": "2560371a-2880-4725-a364-384a37fab4fc",
   "metadata": {},
   "outputs": [
    {
     "name": "stdout",
     "output_type": "stream",
     "text": [
      "     ?\n"
     ]
    }
   ],
   "source": [
    "from langchain import HuggingFaceHub\n",
    "\n",
    "llm2 = HuggingFaceHub(repo_id=\"google-t5/t5-base\", model_kwargs={\"temperature\":0.8, \"max_length\":512})\n",
    "prompt = \"진희는 강아지를 키우고 있습니다. 진희가 키우고 있는 동물은?\"\n",
    "completion = llm2(prompt)\n",
    "print(completion)"
   ]
  },
  {
   "cell_type": "code",
   "execution_count": 30,
   "id": "b5218f66-d11f-43e7-b3b7-9b144130494a",
   "metadata": {},
   "outputs": [
    {
     "name": "stdout",
     "output_type": "stream",
     "text": [
      "\u001b[1mInput:\u001b[0m\n",
      "대한민국의 가을은 몇 월부터 몇 월까지야?\n",
      "\n",
      "client=<openai.resources.chat.completions.Completions object at 0x7f92c8f81850> async_client=<openai.resources.chat.completions.AsyncCompletions object at 0x7f92c8f8c220> model_name='gpt-4' temperature=0.0 openai_api_key=SecretStr('**********') openai_proxy=''\n"
     ]
    },
    {
     "name": "stderr",
     "output_type": "stream",
     "text": [
      "/Users/yunsoyoung/anaconda3/envs/llm/lib/python3.8/site-packages/pydantic/v1/main.py:996: RuntimeWarning: fields may not start with an underscore, ignoring \"_input\"\n",
      "  warnings.warn(f'fields may not start with an underscore, ignoring \"{f_name}\"', RuntimeWarning)\n"
     ]
    },
    {
     "name": "stdout",
     "output_type": "stream",
     "text": [
      "\u001b[36;1m\u001b[1;3m대한민국의 가을은 보통 9월부터 11월까지입니다.\u001b[0m\n",
      "\n",
      "\u001b[1mHuggingFaceHub\u001b[0m\n",
      "Params: {'repo_id': 'google-t5/t5-base', 'task': 'translation', 'model_kwargs': {'temperature': 0.8, 'max_length': 512}}\n",
      "\u001b[33;1m\u001b[1;3m   ?\u001b[0m\n",
      "\n"
     ]
    }
   ],
   "source": [
    "from langchain.model_laboratory import ModelLaboratory\n",
    "model_lab = ModelLaboratory.from_llms([llm1, llm2])\n",
    "model_lab.compare(\"대한민국의 가을은 몇 월부터 몇 월까지야?\")"
   ]
  },
  {
   "cell_type": "code",
   "execution_count": 35,
   "id": "651f82ff-3b12-4d95-bd63-7c898c5fb39f",
   "metadata": {},
   "outputs": [
    {
     "name": "stdout",
     "output_type": "stream",
     "text": [
      "['두산 베어스', '롯데 자이언츠', '삼성 라이온즈', 'SK 와이번스', 'KIA 타이거즈', 'LG 트윈스', 'NC 다이노스']\n"
     ]
    }
   ],
   "source": [
    "from langchain.output_parsers import CommaSeparatedListOutputParser\n",
    "from langchain.prompts import PromptTemplate\n",
    "from langchain_openai import ChatOpenAI\n",
    "\n",
    "llm = ChatOpenAI(temperature=0,\n",
    "                 max_tokens=2048,\n",
    "                 model_name='gpt-4'\n",
    "                )\n",
    "output_parser = CommaSeparatedListOutputParser() # initialized parser\n",
    "format_instructions = output_parser.get_format_instructions() # set output format\n",
    "\n",
    "prompt = PromptTemplate(\n",
    "    template=\"7개의 팀을 보여줘 {subject}.\\n{format_instructions}\",\n",
    "    input_variables=[\"subject\"],\n",
    "    partial_variables={\"format_instructions\": format_instructions}\n",
    ")\n",
    "\n",
    "query = \"한국의 야구팀은?\"\n",
    "\n",
    "output = llm.predict(text=prompt.format(subject=query))\n",
    "\n",
    "# change format of output\n",
    "parsed_result = output_parser.parse(output)\n",
    "print(parsed_result)"
   ]
  },
  {
   "cell_type": "code",
   "execution_count": 36,
   "id": "062e2b7c-f30f-4e29-8a26-d020e6421eb0",
   "metadata": {},
   "outputs": [
    {
     "name": "stdout",
     "output_type": "stream",
     "text": [
      "Looking in indexes: https://pypi.org/simple, https://pypi.ngc.nvidia.com\n",
      "Collecting pypdf\n",
      "  Downloading pypdf-4.3.1-py3-none-any.whl.metadata (7.4 kB)\n",
      "Requirement already satisfied: typing_extensions>=4.0 in ./anaconda3/envs/llm/lib/python3.8/site-packages (from pypdf) (4.12.2)\n",
      "Downloading pypdf-4.3.1-py3-none-any.whl (295 kB)\n",
      "\u001b[2K   \u001b[38;2;114;156;31m━━━━━━━━━━━━━━━━━━━━━━━━━━━━━━━━━━━━━━━━\u001b[0m \u001b[32m295.8/295.8 kB\u001b[0m \u001b[31m10.8 MB/s\u001b[0m eta \u001b[36m0:00:00\u001b[0m\n",
      "\u001b[?25hInstalling collected packages: pypdf\n",
      "Successfully installed pypdf-4.3.1\n",
      "Looking in indexes: https://pypi.org/simple, https://pypi.ngc.nvidia.com\n",
      "Requirement already satisfied: tiktoken in ./anaconda3/envs/llm/lib/python3.8/site-packages (0.7.0)\n",
      "Requirement already satisfied: regex>=2022.1.18 in ./anaconda3/envs/llm/lib/python3.8/site-packages (from tiktoken) (2024.7.24)\n",
      "Requirement already satisfied: requests>=2.26.0 in ./anaconda3/envs/llm/lib/python3.8/site-packages (from tiktoken) (2.32.3)\n",
      "Requirement already satisfied: charset-normalizer<4,>=2 in ./anaconda3/envs/llm/lib/python3.8/site-packages (from requests>=2.26.0->tiktoken) (3.3.2)\n",
      "Requirement already satisfied: idna<4,>=2.5 in ./anaconda3/envs/llm/lib/python3.8/site-packages (from requests>=2.26.0->tiktoken) (3.7)\n",
      "Requirement already satisfied: urllib3<3,>=1.21.1 in ./anaconda3/envs/llm/lib/python3.8/site-packages (from requests>=2.26.0->tiktoken) (2.2.2)\n",
      "Requirement already satisfied: certifi>=2017.4.17 in ./anaconda3/envs/llm/lib/python3.8/site-packages (from requests>=2.26.0->tiktoken) (2024.7.4)\n",
      "Looking in indexes: https://pypi.org/simple, https://pypi.ngc.nvidia.com\n",
      "Collecting faiss-cpu\n",
      "  Downloading faiss_cpu-1.8.0.post1-cp38-cp38-macosx_10_14_x86_64.whl.metadata (3.7 kB)\n",
      "Requirement already satisfied: numpy<2.0,>=1.0 in ./anaconda3/envs/llm/lib/python3.8/site-packages (from faiss-cpu) (1.24.4)\n",
      "Requirement already satisfied: packaging in ./anaconda3/envs/llm/lib/python3.8/site-packages (from faiss-cpu) (24.1)\n",
      "Downloading faiss_cpu-1.8.0.post1-cp38-cp38-macosx_10_14_x86_64.whl (7.3 MB)\n",
      "\u001b[2K   \u001b[38;2;114;156;31m━━━━━━━━━━━━━━━━━━━━━━━━━━━━━━━━━━━━━━━━\u001b[0m \u001b[32m7.3/7.3 MB\u001b[0m \u001b[31m5.3 MB/s\u001b[0m eta \u001b[36m0:00:00\u001b[0m MB/s\u001b[0m eta \u001b[36m0:00:01\u001b[0m:01\u001b[0mm\n",
      "\u001b[?25hInstalling collected packages: faiss-cpu\n",
      "Successfully installed faiss-cpu-1.8.0.post1\n",
      "Looking in indexes: https://pypi.org/simple, https://pypi.ngc.nvidia.com\n",
      "Collecting sentence-transformers\n",
      "  Downloading sentence_transformers-3.0.1-py3-none-any.whl.metadata (10 kB)\n",
      "Collecting transformers<5.0.0,>=4.34.0 (from sentence-transformers)\n",
      "  Downloading transformers-4.43.2-py3-none-any.whl.metadata (43 kB)\n",
      "\u001b[2K     \u001b[38;2;114;156;31m━━━━━━━━━━━━━━━━━━━━━━━━━━━━━━━━━━━━━━━━\u001b[0m \u001b[32m43.7/43.7 kB\u001b[0m \u001b[31m7.6 MB/s\u001b[0m eta \u001b[36m0:00:00\u001b[0m\n",
      "\u001b[?25hRequirement already satisfied: tqdm in ./anaconda3/envs/llm/lib/python3.8/site-packages (from sentence-transformers) (4.66.4)\n",
      "Collecting torch>=1.11.0 (from sentence-transformers)\n",
      "  Downloading torch-2.2.2-cp38-none-macosx_10_9_x86_64.whl.metadata (25 kB)\n",
      "Requirement already satisfied: numpy in ./anaconda3/envs/llm/lib/python3.8/site-packages (from sentence-transformers) (1.24.4)\n",
      "Collecting scikit-learn (from sentence-transformers)\n",
      "  Downloading scikit_learn-1.3.2-cp38-cp38-macosx_10_9_x86_64.whl.metadata (11 kB)\n",
      "Collecting scipy (from sentence-transformers)\n",
      "  Downloading scipy-1.10.1-cp38-cp38-macosx_10_9_x86_64.whl.metadata (53 kB)\n",
      "\u001b[2K     \u001b[38;2;114;156;31m━━━━━━━━━━━━━━━━━━━━━━━━━━━━━━━━━━━━━━━━\u001b[0m \u001b[32m53.9/53.9 kB\u001b[0m \u001b[31m32.2 MB/s\u001b[0m eta \u001b[36m0:00:00\u001b[0m\n",
      "\u001b[?25hRequirement already satisfied: huggingface-hub>=0.15.1 in ./anaconda3/envs/llm/lib/python3.8/site-packages (from sentence-transformers) (0.24.2)\n",
      "Requirement already satisfied: Pillow in ./anaconda3/envs/llm/lib/python3.8/site-packages (from sentence-transformers) (10.4.0)\n",
      "Requirement already satisfied: filelock in ./anaconda3/envs/llm/lib/python3.8/site-packages (from huggingface-hub>=0.15.1->sentence-transformers) (3.15.4)\n",
      "Requirement already satisfied: fsspec>=2023.5.0 in ./anaconda3/envs/llm/lib/python3.8/site-packages (from huggingface-hub>=0.15.1->sentence-transformers) (2024.6.1)\n",
      "Requirement already satisfied: packaging>=20.9 in ./anaconda3/envs/llm/lib/python3.8/site-packages (from huggingface-hub>=0.15.1->sentence-transformers) (24.1)\n",
      "Requirement already satisfied: pyyaml>=5.1 in ./anaconda3/envs/llm/lib/python3.8/site-packages (from huggingface-hub>=0.15.1->sentence-transformers) (6.0.1)\n",
      "Requirement already satisfied: requests in ./anaconda3/envs/llm/lib/python3.8/site-packages (from huggingface-hub>=0.15.1->sentence-transformers) (2.32.3)\n",
      "Requirement already satisfied: typing-extensions>=3.7.4.3 in ./anaconda3/envs/llm/lib/python3.8/site-packages (from huggingface-hub>=0.15.1->sentence-transformers) (4.12.2)\n",
      "Collecting sympy (from torch>=1.11.0->sentence-transformers)\n",
      "  Downloading sympy-1.13.1-py3-none-any.whl.metadata (12 kB)\n",
      "Collecting networkx (from torch>=1.11.0->sentence-transformers)\n",
      "  Downloading networkx-3.1-py3-none-any.whl.metadata (5.3 kB)\n",
      "Requirement already satisfied: jinja2 in ./anaconda3/envs/llm/lib/python3.8/site-packages (from torch>=1.11.0->sentence-transformers) (3.1.4)\n",
      "Requirement already satisfied: regex!=2019.12.17 in ./anaconda3/envs/llm/lib/python3.8/site-packages (from transformers<5.0.0,>=4.34.0->sentence-transformers) (2024.7.24)\n",
      "Collecting tokenizers<0.20,>=0.19 (from transformers<5.0.0,>=4.34.0->sentence-transformers)\n",
      "  Downloading tokenizers-0.19.1-cp38-cp38-macosx_10_12_x86_64.whl.metadata (6.7 kB)\n",
      "Collecting safetensors>=0.4.1 (from transformers<5.0.0,>=4.34.0->sentence-transformers)\n",
      "  Downloading safetensors-0.4.3-cp38-cp38-macosx_10_12_x86_64.whl.metadata (3.8 kB)\n",
      "Collecting joblib>=1.1.1 (from scikit-learn->sentence-transformers)\n",
      "  Downloading joblib-1.4.2-py3-none-any.whl.metadata (5.4 kB)\n",
      "Collecting threadpoolctl>=2.0.0 (from scikit-learn->sentence-transformers)\n",
      "  Downloading threadpoolctl-3.5.0-py3-none-any.whl.metadata (13 kB)\n",
      "Requirement already satisfied: MarkupSafe>=2.0 in ./anaconda3/envs/llm/lib/python3.8/site-packages (from jinja2->torch>=1.11.0->sentence-transformers) (2.1.5)\n",
      "Requirement already satisfied: charset-normalizer<4,>=2 in ./anaconda3/envs/llm/lib/python3.8/site-packages (from requests->huggingface-hub>=0.15.1->sentence-transformers) (3.3.2)\n",
      "Requirement already satisfied: idna<4,>=2.5 in ./anaconda3/envs/llm/lib/python3.8/site-packages (from requests->huggingface-hub>=0.15.1->sentence-transformers) (3.7)\n",
      "Requirement already satisfied: urllib3<3,>=1.21.1 in ./anaconda3/envs/llm/lib/python3.8/site-packages (from requests->huggingface-hub>=0.15.1->sentence-transformers) (2.2.2)\n",
      "Requirement already satisfied: certifi>=2017.4.17 in ./anaconda3/envs/llm/lib/python3.8/site-packages (from requests->huggingface-hub>=0.15.1->sentence-transformers) (2024.7.4)\n",
      "Collecting mpmath<1.4,>=1.1.0 (from sympy->torch>=1.11.0->sentence-transformers)\n",
      "  Downloading mpmath-1.3.0-py3-none-any.whl.metadata (8.6 kB)\n",
      "Downloading sentence_transformers-3.0.1-py3-none-any.whl (227 kB)\n",
      "\u001b[2K   \u001b[38;2;114;156;31m━━━━━━━━━━━━━━━━━━━━━━━━━━━━━━━━━━━━━━━━\u001b[0m \u001b[32m227.1/227.1 kB\u001b[0m \u001b[31m13.7 MB/s\u001b[0m eta \u001b[36m0:00:00\u001b[0m\n",
      "\u001b[?25hDownloading torch-2.2.2-cp38-none-macosx_10_9_x86_64.whl (150.6 MB)\n",
      "\u001b[2K   \u001b[38;2;114;156;31m━━━━━━━━━━━━━━━━━━━━━━━━━━━━━━━━━━━━━━━━\u001b[0m \u001b[32m150.6/150.6 MB\u001b[0m \u001b[31m11.4 MB/s\u001b[0m eta \u001b[36m0:00:00\u001b[0mm eta \u001b[36m0:00:01\u001b[0m[36m0:00:01\u001b[0m\n",
      "\u001b[?25hDownloading transformers-4.43.2-py3-none-any.whl (9.4 MB)\n",
      "\u001b[2K   \u001b[38;2;114;156;31m━━━━━━━━━━━━━━━━━━━━━━━━━━━━━━━━━━━━━━━━\u001b[0m \u001b[32m9.4/9.4 MB\u001b[0m \u001b[31m11.7 MB/s\u001b[0m eta \u001b[36m0:00:00\u001b[0mm eta \u001b[36m0:00:01\u001b[0m[36m0:00:01\u001b[0m\n",
      "\u001b[?25hDownloading scikit_learn-1.3.2-cp38-cp38-macosx_10_9_x86_64.whl (10.1 MB)\n",
      "\u001b[2K   \u001b[38;2;114;156;31m━━━━━━━━━━━━━━━━━━━━━━━━━━━━━━━━━━━━━━━━\u001b[0m \u001b[32m10.1/10.1 MB\u001b[0m \u001b[31m11.5 MB/s\u001b[0m eta \u001b[36m0:00:00\u001b[0mm eta \u001b[36m0:00:01\u001b[0m36m0:00:01\u001b[0m\n",
      "\u001b[?25hDownloading scipy-1.10.1-cp38-cp38-macosx_10_9_x86_64.whl (35.0 MB)\n",
      "\u001b[2K   \u001b[38;2;114;156;31m━━━━━━━━━━━━━━━━━━━━━━━━━━━━━━━━━━━━━━━━\u001b[0m \u001b[32m35.0/35.0 MB\u001b[0m \u001b[31m11.6 MB/s\u001b[0m eta \u001b[36m0:00:00\u001b[0mm eta \u001b[36m0:00:01\u001b[0m[36m0:00:01\u001b[0m\n",
      "\u001b[?25hDownloading joblib-1.4.2-py3-none-any.whl (301 kB)\n",
      "\u001b[2K   \u001b[38;2;114;156;31m━━━━━━━━━━━━━━━━━━━━━━━━━━━━━━━━━━━━━━━━\u001b[0m \u001b[32m301.8/301.8 kB\u001b[0m \u001b[31m13.4 MB/s\u001b[0m eta \u001b[36m0:00:00\u001b[0m\n",
      "\u001b[?25hDownloading safetensors-0.4.3-cp38-cp38-macosx_10_12_x86_64.whl (416 kB)\n",
      "\u001b[2K   \u001b[38;2;114;156;31m━━━━━━━━━━━━━━━━━━━━━━━━━━━━━━━━━━━━━━━━\u001b[0m \u001b[32m416.3/416.3 kB\u001b[0m \u001b[31m12.3 MB/s\u001b[0m eta \u001b[36m0:00:00\u001b[0m\n",
      "\u001b[?25hDownloading threadpoolctl-3.5.0-py3-none-any.whl (18 kB)\n",
      "Downloading tokenizers-0.19.1-cp38-cp38-macosx_10_12_x86_64.whl (2.5 MB)\n",
      "\u001b[2K   \u001b[38;2;114;156;31m━━━━━━━━━━━━━━━━━━━━━━━━━━━━━━━━━━━━━━━━\u001b[0m \u001b[32m2.5/2.5 MB\u001b[0m \u001b[31m11.8 MB/s\u001b[0m eta \u001b[36m0:00:00\u001b[0m31m11.7 MB/s\u001b[0m eta \u001b[36m0:00:01\u001b[0m\n",
      "\u001b[?25hDownloading networkx-3.1-py3-none-any.whl (2.1 MB)\n",
      "\u001b[2K   \u001b[38;2;114;156;31m━━━━━━━━━━━━━━━━━━━━━━━━━━━━━━━━━━━━━━━━\u001b[0m \u001b[32m2.1/2.1 MB\u001b[0m \u001b[31m11.9 MB/s\u001b[0m eta \u001b[36m0:00:00\u001b[0m31m11.9 MB/s\u001b[0m eta \u001b[36m0:00:01\u001b[0m\n",
      "\u001b[?25hDownloading sympy-1.13.1-py3-none-any.whl (6.2 MB)\n",
      "\u001b[2K   \u001b[38;2;114;156;31m━━━━━━━━━━━━━━━━━━━━━━━━━━━━━━━━━━━━━━━━\u001b[0m \u001b[32m6.2/6.2 MB\u001b[0m \u001b[31m11.3 MB/s\u001b[0m eta \u001b[36m0:00:00\u001b[0m MB/s\u001b[0m eta \u001b[36m0:00:01\u001b[0m:01\u001b[0m\n",
      "\u001b[?25hDownloading mpmath-1.3.0-py3-none-any.whl (536 kB)\n",
      "\u001b[2K   \u001b[38;2;114;156;31m━━━━━━━━━━━━━━━━━━━━━━━━━━━━━━━━━━━━━━━━\u001b[0m \u001b[32m536.2/536.2 kB\u001b[0m \u001b[31m12.8 MB/s\u001b[0m eta \u001b[36m0:00:00\u001b[0m31m13.0 MB/s\u001b[0m eta \u001b[36m0:00:01\u001b[0m\n",
      "\u001b[?25hInstalling collected packages: mpmath, threadpoolctl, sympy, scipy, safetensors, networkx, joblib, torch, scikit-learn, tokenizers, transformers, sentence-transformers\n",
      "Successfully installed joblib-1.4.2 mpmath-1.3.0 networkx-3.1 safetensors-0.4.3 scikit-learn-1.3.2 scipy-1.10.1 sentence-transformers-3.0.1 sympy-1.13.1 threadpoolctl-3.5.0 tokenizers-0.19.1 torch-2.2.2 transformers-4.43.2\n"
     ]
    }
   ],
   "source": [
    "!pip install pypdf\n",
    "!pip install tiktoken\n",
    "!pip install faiss-cpu\n",
    "!pip install sentence-transformers"
   ]
  },
  {
   "cell_type": "code",
   "execution_count": 38,
   "id": "90e5d769-e309-47f0-b02b-9d548dc0d2db",
   "metadata": {},
   "outputs": [
    {
     "data": {
      "text/plain": [
       "'Chapter 1    The Fence \\n \\nTom Sawyer lived with his aunt because his mother and \\nfather were dead. Tom didn’t like going to school, and he didn’t like working. He liked playing and having adventures. One Friday, he didn’t go to school—he went to the river. \\nAunt Polly was angry. “You’re a bad boy!” she said. \\n“Tomorrow you can’t play with your friends because you didn’t go to school today. Tomorrow you’re going to work for me. You can paint the fence.” \\nSaturday morning, Tom was not happy, but he started to \\npaint the fence. His friend Jim was in the street. \\nTom asked him, “Do you want to paint?” \\nJim said, “No, I can’t. I’m going to get water.” \\nThen Ben came to Tom’s house. He watched Tom and \\nsaid, “I’m going to swim today. You can’t swim because you’re working.” \\nTom said, “This isn’t work. I like painting.” \\n“Can I paint, too?” Ben asked. \\n“No, you can’t,” Tom answered. “Aunt Polly asked me \\nbecause I’m a very good painter.” \\nBen said, “I’m a good painter, too. Please, can I paint? I \\nhave some fruit. Do you want it?” \\nOK,” Tom said. “Give me the fruit. Then you can paint.” \\nBen started to paint the fence. Later, many boys came to \\nTom’s house. They watched Ben, and they wanted to paint, too. \\nTom said, “Give me some food and you can paint.” \\n \\n1 '"
      ]
     },
     "execution_count": 38,
     "metadata": {},
     "output_type": "execute_result"
    }
   ],
   "source": [
    "from langchain.document_loaders import PyPDFLoader\n",
    "\n",
    "loader = PyPDFLoader(\"/Users/yunsoyoung/Downloads/The_Adventures_of_Tom_Sawyer.pdf\")\n",
    "document = loader.load()\n",
    "document[5].page_content[:5000] # read 5,000 characters of page 6 in PDF"
   ]
  },
  {
   "cell_type": "code",
   "execution_count": 40,
   "id": "01e2f679-e14a-4c2b-a80e-3ca66be49c89",
   "metadata": {},
   "outputs": [
    {
     "name": "stdout",
     "output_type": "stream",
     "text": [
      "[-0.002902240725234151, -0.02020047977566719, -0.012732614763081074, -0.01655176840722561, -0.02254878543317318, 0.02868468128144741, -0.027901912108063698, 0.0064452155493199825, -0.01202559843659401, 0.009885610081255436, -0.015491243451833725, 0.014443343505263329, 0.006634595338255167, -0.033255040645599365, 0.000622190535068512, 0.027952414005994797, 0.022233152762055397, -0.0049522737972438335, 0.024114323779940605, -0.027068642899394035, -0.0003791535273194313, 0.0038949050940573215, 0.01415296085178852, -0.020970623940229416, -0.005078526679426432, 0.018306685611605644, 0.02432895265519619, -0.020452985540032387, -0.00413478584960103, -0.018672818318009377, 0.0013879939215257764, -0.0011780982604250312, -0.035502344369888306, -0.005062745418399572, 0.0012719989754259586, -0.01772592030465603, 0.01112920232117176, 0.007221671752631664, 0.00960785336792469, 0.003224185900762677, -0.0007243765867315233, 0.0032636399846524, 0.0054825362749397755, -0.007625681348145008, 0.015503868460655212, 0.004778676200658083, -0.01213922630995512, -0.020970623940229416, -0.019102077931165695, 0.014657973311841488, 0.009664666838943958, 0.012574798427522182, -0.011564774438738823, -0.011331207118928432, -0.019228331744670868, 0.004235788248479366, -0.0021778643131256104, -0.012978808023035526, 0.0032273423857986927, -0.02704339288175106, 0.0015205595409497619, 0.011122888885438442, -0.01488522905856371, -2.092914655804634e-06, -0.016185633838176727, -0.014127710834145546, -0.011438521556556225, 0.0013303910382092, -0.008465263992547989, -0.002122628502547741, 0.029416948556900024, 0.029164442792534828, -0.0138499541208148, -0.007171170320361853, 0.017890049144625664, -0.016160383820533752, -0.006685096304863691, -0.0012775225332006812, -0.01268211379647255, 0.004036939702928066, 0.017599668353796005, -0.02329367771744728, -0.00298903975635767, -0.009670979343354702, 0.003815996926277876, -0.0014242916367948055, -0.04421380162239075, 0.029745206236839294, 0.002760206116363406, -0.0037718084640800953, 0.00685553764924407, 0.02113475278019905, 0.0029558984097093344, 0.04340578243136406, -0.0032352330163121223, 0.00409059738740325, -0.002649734728038311, 0.01174152921885252, -0.02156401239335537, -0.013509070500731468, -0.012928307056427002, -0.015667997300624847, -0.014481219463050365, -0.0033867366146296263, -0.01290936954319477, -0.0076383063569664955, 0.0005606422200798988, -0.02469508722424507, 0.024455206468701363, -0.02704339288175106, -0.0023293679114431143, 0.0261596217751503, 0.014115084894001484, -0.03350754454731941, 0.010516874492168427, -0.01382470317184925, 0.02395019307732582, -0.012991433963179588, 0.013370192609727383, -0.0006083816406317055, 0.012252853251993656, 0.012549548409879208, 0.018432937562465668, -0.001280678901821375, 0.008963963016867638, 0.00808650441467762, -0.005334189161658287, -0.021109500899910927, 0.001229388639330864, -0.01307981088757515, 0.05393528193235397, 0.014051958918571472, 0.03444181755185127, 0.0004505653923843056, -0.0162613857537508, -0.017258785665035248, 0.01575637422502041, 0.0023656655102968216, 0.013433319516479969, -0.020882247015833855, -0.0029543202836066484, 0.0035224587190896273, -0.008118067868053913, -0.024644585326313972, 0.02802816592156887, 0.0229780450463295, 0.05337976664304733, 0.002509278478100896, 0.0052521247416734695, 0.015024106949567795, 0.007455239538103342, -0.0007547562127001584, 0.04550158232450485, -0.009835109114646912, 0.019228331744670868, 0.0007515999022871256, -0.022094275802373886, 0.020642366260290146, 0.01171627826988697, -0.0025408416986465454, 0.0066156573593616486, 0.015036731958389282, 0.028507927432656288, -0.01290936954319477, 0.01235385611653328, 0.033532798290252686, 0.0035413966979831457, 0.018155181780457497, -0.0012577954912558198, -0.0011441678507253528, -0.006003329996019602, 0.017839549109339714, -0.0033835803624242544, 0.03174000233411789, -0.034946829080581665, 0.00859782937914133, 0.0117857176810503, -0.0020642364397644997, -0.01131858117878437, 0.01930408366024494, -0.015667997300624847, 0.004538795445114374, 0.013395443558692932, 0.01294093206524849, -0.014986230991780758, -0.00703229196369648, -0.0006616446189582348, -0.01828143373131752, -0.0022157400380820036, 0.013572197407484055, 0.011167077347636223, 0.013155562803149223, -0.01206978689879179, -0.0037370887584984303, -0.6258108615875244, 0.00351614598184824, 0.021160002797842026, -0.006438903044909239, 0.019796470180153847, 0.0010581579990684986, -0.0053184074349701405, 0.011110263876616955, -0.011848843656480312, 0.027624156326055527, 0.0022788667120039463, -0.002045298693701625, 0.004475669004023075, -0.0008261680486612022, -0.012448545545339584, -0.027270648628473282, 0.002381447236984968, -0.009020776487886906, -0.005668759811669588, -0.01752391643822193, -0.002884881105273962, -0.004983837250620127, -0.014430717565119267, 0.0025408416986465454, 0.017940551042556763, 0.01888744905591011, 0.011924595572054386, 0.006760848220437765, -0.002749159000813961, 0.05873289704322815, -0.04456730931997299, 0.036815375089645386, -0.0036045231390744448, -0.0015205595409497619, 0.03211876377463341, -0.014014082960784435, -0.024265825748443604, 0.017776422202587128, -0.007007041480392218, 0.04628434777259827, -0.017258785665035248, -0.01897582598030567, 0.02090749703347683, -0.0010699941776692867, -0.008711457252502441, 0.0012601627968251705, 0.004721862263977528, -0.005700322799384594, 0.01701890490949154, 0.007821373641490936, -0.03663862124085426, 0.005198467057198286, 0.024505706503987312, 0.008029690943658352, -0.031285494565963745, 0.019884847104549408, 0.015832126140594482, -0.00866726879030466, -0.006019111722707748, 0.01097138598561287, 0.03557809442281723, -0.003989594988524914, -0.004822864662855864, 4.71722632937599e-05, -0.04115847870707512, 0.027901912108063698, -0.016513891518115997, -0.00044740905286744237, -0.008862960152328014, -0.02807866781949997, 0.022851793095469475, -0.019190456718206406, -0.003976969514042139, 0.00789712555706501, 0.0196449663490057, 0.02737165056169033, 0.045072320848703384, 0.010561062954366207, -0.008585204370319843, 0.0018275121692568064, -0.021084250882267952, -0.008989213965833187, -0.023079048842191696, 0.014026707969605923, -0.008503139950335026, -0.010838819667696953, -0.020642366260290146, -0.019329333677887917, 0.005056432448327541, -0.016198260709643364, 0.025061219930648804, 0.03552759438753128, -0.0010984011460095644, -0.017599668353796005, -0.01608463190495968, 0.034568071365356445, 0.003039540955796838, -0.0036423990968614817, 0.00046240160008892417, -0.005637196358293295, 0.016943152993917465, -0.0029701017774641514, 0.008256945759057999, -0.0034561757929623127, 0.011211266741156578, 0.02643737755715847, -0.04625909775495529, -0.0011441678507253528, 0.013218688778579235, -0.01963234134018421, 0.011678402312099934, -0.010775693692266941, 0.009696230292320251, 0.011154452338814735, -0.007215358782559633, -0.011665777303278446, 0.004384135361760855, 0.02588186413049698, 0.009715168736875057, -0.009083903394639492, 0.01831931062042713, 0.003964344039559364, 0.03196725994348526, 0.012208664789795876, 0.015352364629507065, 0.011369082145392895, -0.042825017124414444, -0.030123965814709663, -0.021021123975515366, -0.013786827214062214, -0.029442198574543, -0.01057368889451027, 0.014733725227415562, -0.012852555140852928, 0.0069249770604074, 0.012833617627620697, 0.0219806469976902, -0.003664493327960372, 0.022662414237856865, -0.009292220696806908, -0.004914397839456797, 0.00758149242028594, -0.008976588025689125, -0.0008301134803332388, -0.003907530102878809, -0.011766779236495495, -0.02391231805086136, -0.00433363439515233, -0.013344941660761833, 0.0026623602025210857, -0.004355728626251221, -0.024530958384275436, -0.002924335189163685, -0.002296226331964135, 0.025389477610588074, 0.01488522905856371, -0.010750442743301392, -0.006139052100479603, 0.01204453594982624, -0.007764559239149094, 0.026235373690724373, 0.0010131803574040532, -0.028533177450299263, -0.015731124207377434, 0.006697721779346466, -0.03333079069852829, 0.0004229475453030318, 0.018786447122693062, -0.007177482824772596, -0.02114737778902054, -0.014796851202845573, -0.007549929432570934, -0.00918490532785654, 0.014822102151811123, 0.014998856000602245, -0.015390240587294102, 0.008780895732343197, -0.01898845098912716, -0.01978384517133236, 0.002534528961405158, 0.018963200971484184, 0.009576289914548397, -0.0017533384962007403, -0.012360168620944023, 0.011116576381027699, 0.014228712767362595, 0.009658354334533215, 0.03466907516121864, -0.007051229942589998, 0.006325275171548128, -0.021008498966693878, 0.023230552673339844, -0.0032162952702492476, 0.013534321449697018, 0.003254170995205641, -0.0357043482363224, 0.01897582598030567, 0.03661337122321129, 0.030224967747926712, 0.03148749843239784, -0.009159655310213566, -0.004033783450722694, 0.0030900421552360058, -0.007070167921483517, 0.014569596387445927, -0.010062363930046558, -0.009128091856837273, -0.015996254980564117, 0.007436301559209824, -0.005611945874989033, -0.00787187460809946, -0.029240194708108902, 0.009828795678913593, -0.01930408366024494, 0.015870001167058945, 0.02161451429128647, -0.027018141001462936, 0.010737817734479904, -0.015263987705111504, 0.011369082145392895, 0.030578477308154106, 0.00946897454559803, -0.006577781401574612, -0.019884847104549408, 0.0037844337057322264, 0.03338129445910454, -0.00238460348919034, 0.0326237753033638, 0.0038728108629584312, 0.007663556840270758, -0.022157400846481323, -0.02371031418442726, -0.007549929432570934, 0.025061219930648804, 0.004447261802852154, -0.02291492000222206, 0.019581839442253113, -0.022372031584382057, -0.004579827655106783, 0.019897472113370895, 0.012050848454236984, 0.017890049144625664, -0.020755993202328682, -0.03376005217432976, 0.029593702405691147, 0.040198955684900284, 0.009399536065757275, 0.009929798543453217, -0.0408807210624218, 0.01155846193432808, -0.023508308455348015, -0.017587043344974518, 0.018912699073553085, -0.0017028372967615724, -0.0049901497550308704, -0.03482057899236679, -0.0037939026951789856, -0.001315398490987718, 0.019480837509036064, 0.01188671961426735, 0.0010194929782301188, 0.011179703287780285, 0.0038728108629584312, 0.011028199456632137, 0.029896710067987442, 0.007543616928160191, -0.005214248783886433, -0.021715516224503517, -0.0036834313068538904, -0.015832126140594482, -0.03578009828925133, -0.022813916206359863, 0.01940508559346199, -0.019771220162510872, 0.027775660157203674, 0.022334154695272446, 0.007227984257042408, -0.0012262322707101703, 0.01959446631371975, 0.01776379719376564, -0.012461171485483646, -0.039592940360307693, -0.0007961829542182386, 0.029745206236839294, 0.015226111747324467, -0.0030300719663500786, -0.030477473512291908, 0.010807257145643234, -0.013041934929788113, 0.05666234716773033, -0.003667649580165744, 0.006760848220437765, -0.003509833477437496, -0.01373632624745369, -0.02896243892610073, -0.018634943291544914, 0.019998475909233093, -0.018117304891347885, 0.02699289098381996, -0.018761195242404938, -0.010175991803407669, -0.001808574190363288, -0.006290555465966463, -0.013976207002997398, 0.010434810072183609, 0.01579425111413002, 0.0019853285048156977, -0.017587043344974518, 0.0220311488956213, -0.00927959568798542, -0.031234992668032646, -0.0028122856747359037, -0.023306304588913918, -0.0373961366713047, -0.021665014326572418, -0.004093753639608622, -0.0219806469976902, -0.022296279668807983, 0.016059381887316704, 0.014796851202845573, -0.007265860214829445, -0.01800367794930935, -0.01828143373131752, 0.010087614879012108, 0.051258716732263565, -0.017044154927134514, -0.006520967464894056, -0.01188671961426735, 0.005394159350544214, 0.008395824581384659, -0.006514654960483313, -0.02939169853925705, -0.010504249483346939, -0.007126981858164072, -0.004611390642821789, -0.011507960967719555, 0.00173124426510185, -0.0019995318725705147, 0.02714439481496811, 0.009191218763589859, -0.0039012175984680653, -0.03557809442281723, 0.005211092531681061, 0.0004276820400264114, 0.0002264663198729977, -0.010535812936723232, 0.021904895082116127, 0.021778643131256104, -0.006438903044909239, 0.00801706500351429, 4.596398139256053e-05, 0.014228712767362595, 0.02422795072197914, -0.03285102918744087, -0.007392113097012043, -0.00549516174942255, -0.0072469222359359264, -0.020642366260290146, -0.004936492070555687, 0.023495683446526527, -0.020553987473249435, 0.019708093255758286, 0.015428116545081139, 0.0017722764750942588, 0.02934119664132595, 0.04163824021816254, 0.00949422549456358, -0.010245431214571, 0.01162790134549141, 0.0017091500340029597, 0.0049585867673158646, 0.01940508559346199, -0.0035698036663234234, 0.011116576381027699, 0.026588881388306618, -0.009872984141111374, -0.03004821389913559, -0.010838819667696953, 0.014910479076206684, -0.0025534669402986765, -0.009285908192396164, -0.007998127490282059, 0.004870209377259016, -0.003148434218019247, -0.0005791856092400849, -0.02802816592156887, -0.02310429885983467, -0.0066093443892896175, -0.006906039081513882, -0.014796851202845573, -0.02395019307732582, -0.010851445607841015, -0.025515731424093246, -0.0074110510759055614, -0.03365904837846756, -0.01930408366024494, -0.021387258544564247, -0.03176525607705116, -0.014493844471871853, 0.019531339406967163, 0.029871460050344467, 0.0037465577479451895, -0.00424210075289011, -0.005447817035019398, -0.011438521556556225, -0.01818043179810047, 0.00351614598184824, -0.02405119687318802, -0.02868468128144741, 0.0014282370684668422, 0.002217318397015333, 0.009658354334533215, -0.014102459885179996, 0.001983750145882368, 0.02474558725953102, -0.0007291110814549029, 0.019379835575819016, -0.0032699527218937874, -0.0013848375529050827, -0.026260623708367348, -0.0006939969607628882, 0.005192154552787542, -0.014380216598510742, -0.004254726227372885, 0.027119144797325134, -0.029593702405691147, -0.0004430691187735647, 0.0012901478912681341, -0.002337258541956544, -0.0038475601468235254, 0.016614895313978195, 0.006385245360434055, -0.0017091500340029597, 0.010466373525559902, 0.027018141001462936, -0.024152198806405067, 0.013471195474267006, -0.023924943059682846, 0.013004058972001076, 0.010314869694411755, -0.006571468431502581, 0.009147029370069504, -0.00032825779635459185, -0.015011481940746307, -0.008541014976799488, -0.00454826420173049, 0.03365904837846756, 0.024998093023896217, -0.0051605915650725365, 0.01131858117878437, -0.0075373039580881596, -0.006792411208152771, 0.002734955633059144, 0.005703479051589966, -0.00011362769873812795, 0.0067103467881679535, -0.007227984257042408, -0.012151851318776608, 0.002383025363087654, -0.010908259078860283, -0.029038188979029655, 0.027952414005994797, -0.015465992502868176, -0.020137352868914604, -0.0073731751181185246, -0.032699525356292725, -0.008862960152328014, -0.0155164934694767, -0.02802816592156887, -0.027346400544047356, -0.012543235905468464, 0.024177448824048042, -0.0031831536907702684, 0.0068113491870462894, -0.020541362464427948, -0.01026436872780323, -0.014304464682936668, -0.018584441393613815, 0.008610454387962818, -0.0373961366713047, -0.00476920697838068, 0.020654991269111633, 0.036588117480278015, 0.011002948507666588, 0.0023546183947473764, -0.005615102127194405, 0.01655176840722561, 0.008818771690130234, 0.0016491798451170325, 0.008452638052403927, -0.01290936954319477, 0.021904895082116127, -0.028583679348230362, 0.019569214433431625, -0.005665603559464216, -0.002108425134792924, 0.027245396748185158, 0.02301592193543911, -0.011261767707765102, 0.020314106717705727, 0.00765093183144927, -0.012379106134176254, -0.02999771200120449, -0.009349034167826176, 0.00822538323700428, -0.006258992478251457, 0.010302244685590267, -0.020314106717705727, -0.007000728975981474, -0.024783464148640633, 0.01968284323811531, -0.013887830078601837, 0.019771220162510872, 0.00967729277908802, 0.019291458651423454, -0.03815365582704544, 0.0036834313068538904, 0.008364261128008366, -0.003815996926277876, -0.016476016491651535, 0.016981028020381927, 0.027927163988351822, 0.010769381187856197, 0.007613055873662233, 0.00850945245474577, 0.03080573119223118, -0.004942805040627718, 0.02240990661084652, -0.008212757296860218, 0.02156401239335537, -0.011905658058822155, -0.03333079069852829, 0.017284035682678223, -0.008825084194540977, -0.03701737895607948, -0.029568452388048172, -0.005081683397293091, -0.03131074458360672, 0.024164823815226555, 0.002169973449781537, -0.02451833337545395, 0.018167806789278984, 0.009708855301141739, -0.006830287165939808, 0.002534528961405158, 0.04191599413752556, 0.03666387125849724, -0.00479130120947957, 0.035830602049827576, 0.04232000559568405, -0.0047250185161828995, -0.03158850222826004, 0.010504249483346939, -0.004601921886205673, -0.009847734123468399, 0.0013209220487624407, 0.021677639335393906, -0.008515764959156513, -0.017132531851530075, 0.02676563523709774, -0.0015852642245590687, -0.02189227007329464, -0.02104637585580349, 0.02469508722424507, -0.006457841023802757, 0.011381708085536957, 0.00960785336792469, -0.0089260870590806, -0.003702369285747409, 0.01945558749139309, -0.004964899271726608, 0.005378377623856068, -0.04355728626251221, -0.02549048140645027, -0.01852131448686123, -0.03141174465417862, -0.007947626523673534, 0.02699289098381996, -0.004516701214015484, 0.005492005497217178, -0.0027775659691542387, 0.00041229496127925813, -0.01349644549190998, 0.0063158064149320126, -0.02225840464234352, 0.025237973779439926, -0.017082029953598976, -0.011482710018754005, 0.004298914689570665, -0.011981409974396229, -0.006460997276008129, 0.001630241866223514, -0.020175229758024216, 0.035174086689949036, -0.00991086009889841, 0.007619368378072977, -0.028583679348230362, 0.016438139602541924, 0.012410669587552547, 0.00758149242028594, 0.010422185063362122, 0.0055519756861031055, -0.0033046721946448088, -0.009879297576844692, 0.02052873745560646, 0.006956540048122406, -0.016299262642860413, -0.006672470830380917, -0.019064202904701233, 0.005476223770529032, -0.033583298325538635, -0.009203843772411346, 0.017637543380260468, 0.04072921723127365, -0.016488641500473022, -0.006296868436038494, -0.029543202370405197, -0.008705144748091698, 0.00670403428375721, -0.03608310595154762, -0.004122160375118256, 0.03277527913451195, -0.051915232092142105, 0.009450037032365799, -0.024770839139819145, 0.00822538323700428, 0.007890812121331692, -0.011249142698943615, 0.022889668121933937, -0.023041171953082085, 0.01672852225601673, -0.02208164893090725, -0.021488260477781296, -0.018344560638070107, -0.006072769407182932, 0.010895634070038795, -0.012846242636442184, -0.017915301024913788, 0.005368908867239952, 0.012461171485483646, 0.016375014558434486, -0.0053878468461334705, -0.01283993013203144, 0.009330096654593945, 0.00012240622891113162, -0.0006008853670209646, 0.029694706201553345, -0.026614131405949593, -0.030123965814709663, 0.0057887001894414425, 0.006741910241544247, -0.00925434473901987, 0.0018511846428737044, -0.03623460978269577, -0.01073150523006916, -0.008073879405856133, -0.018243558704853058, -0.015579620376229286, 0.0010502671357244253, -0.015832126140594482, -0.02554098144173622, 0.006659845821559429, -0.010201242752373219, -0.015339739620685577, 0.001994797494262457, 0.03989594802260399, -0.01202559843659401, 0.018256183713674545, -0.00048646857612766325, -0.027447402477264404, 0.011053450405597687, -0.040855471044778824, -0.029416948556900024, -0.015364989638328552, -0.018432937562465668, 0.0689341351389885, 0.0009871406946331263, -0.015200860798358917, -0.01781429909169674, 0.015529118478298187, -0.032371267676353455, 0.009039714932441711, 0.027573654428124428, 0.0016917901812121272, -0.0042894454672932625, 0.006798724178224802, 0.0019048420945182443, 0.018622318282723427, -0.01664014533162117, 0.03623460978269577, -0.0034088310785591602, -0.01874857023358345, -0.006779786199331284, -0.022106900811195374, -0.030906734988093376, 0.012278104200959206, 0.010851445607841015, -0.01653914339840412, 0.004298914689570665, -0.007815060205757618, 0.00782768614590168, 0.027169644832611084, 0.003711838275194168, -0.006470466032624245, 0.005362596362829208, -0.0093237841501832, -0.008976588025689125, 0.012038223445415497, 0.0147210992872715, -0.003778120968490839, -0.02329367771744728, 0.01776379719376564, -0.00041466220864094794, -0.002536107087507844, -0.004380979109555483, 0.013774202205240726, -0.023748189210891724, 0.023685062304139137, 0.00023573802900500596, -0.013029309920966625, 0.008900836110115051, -0.0015016215620562434, 0.011009261943399906, -0.00320998253300786, -0.0005499896360561252, 0.028103917837142944, -0.022157400846481323, -0.02020047977566719, -0.00393593730404973, 0.011507960967719555, 0.0004107167769689113, 0.019985849037766457, 0.004822864662855864, -0.005119559355080128, 0.015617496334016323, 0.005312094930559397, 0.0237734392285347, -0.019417710602283478, -0.017700670287013054, 0.018824322149157524, 0.014405467547476292, -0.03631036356091499, 0.0390879288315773, -0.005722417030483484, -0.012076099403202534, 0.0010013440623879433, -0.02025098167359829, 3.0379627787624486e-05, 0.0005188209470361471, -0.02437945455312729, 0.0008135427488014102, 0.013155562803149223, -0.013584822416305542, 0.049895185977220535, -0.014253963716328144, -0.01968284323811531, 0.006426277570426464, 0.005656134337186813, 0.0005586695042438805, 0.02137463353574276, 0.25210198760032654, -0.0027665188536047935, -0.005615102127194405, 0.014620097354054451, 0.004939648788422346, 0.027624156326055527, 0.027826160192489624, -0.004655579570680857, -0.007979189977049828, -0.0020926434081047773, -0.006072769407182932, 0.012991433963179588, -0.0038096841890364885, 0.002739690011367202, -0.0034403942991048098, -0.03403780981898308, -0.010018175467848778, 0.015036731958389282, 0.011198640801012516, -0.028836185112595558, 0.003910686820745468, 0.00859782937914133, -0.014216087758541107, -0.001193879870697856, -0.0008948181057348847, 0.006565155927091837, -0.005712948273867369, -0.002585030160844326, -0.010630502365529537, -0.003301515942439437, -0.02301592193543911, -0.001680743065662682, 0.016248760744929314, 0.0032920469529926777, -0.00038349349051713943, -0.007821373641490936, 0.02868468128144741, 0.014758975245058537, 0.03174000233411789, 0.036436617374420166, 0.009241719730198383, -0.009197531268000603, -5.281912672217004e-05, 0.016387639567255974, -0.0068744756281375885, 0.034568071365356445, -0.00391384307295084, 0.00018632180581334978, -0.019240956753492355, 0.03322979062795639, -0.03126024082303047, -0.017145156860351562, 0.011211266741156578, 0.0372951366007328, 0.004927023313939571, -0.0011899345554411411, 0.007190108299255371, -0.008963963016867638, -0.021968021988868713, 0.011994034983217716, 0.01594575308263302, 0.02301592193543911, -0.00597807951271534, 0.02994721196591854, -0.015907878056168556, -0.008301135152578354, -0.04055246338248253, 0.024253200739622116, 0.0030426972080022097, -0.004576671402901411, -0.0038601853884756565, 0.01921570673584938, 0.007726683747023344, -0.007594117894768715, -0.032977283000946045, -0.019897472113370895, 0.04219375178217888, 0.004374666605144739, 0.025957616046071053, 0.0237734392285347, -0.027169644832611084, -7.377909787464887e-05, 0.012189727276563644, 0.018117304891347885, -0.0068807885982096195, -0.011432209052145481, -0.007417363580316305, -0.008174881339073181, -0.026588881388306618, -0.007007041480392218, 0.013546946458518505, 0.0005125082680024207, 0.005372065119445324, -0.013130311854183674, -0.00028840918093919754, 0.013117686845362186, 0.00039671058766543865, 0.013976207002997398, 0.004008532501757145, -0.004819708410650492, -0.0020800181664526463, -0.009311159141361713, 0.009431098587810993, 0.015061982907354832, -0.0018275121692568064, 0.03376005217432976, -0.0015126687940210104, -0.017511291429400444, -0.002173129701986909, -0.02291492000222206, -0.016375014558434486, -0.027725158259272575, -0.002785456832498312, 0.013799453154206276, 0.009879297576844692, -0.007852936163544655, 0.02085699513554573, -0.03209351375699043, -0.0011015573982149363, -0.0010352745885029435, -0.017309285700321198, -0.018268808722496033, -0.012120287865400314, 0.019758595153689384, 0.015920503064990044, -0.01485997810959816, -0.011760466732084751, 0.022574035450816154, 0.00545097328722477, -0.042724013328552246, 0.005643508862704039, -0.026462629437446594, 0.027447402477264404, 0.006337900646030903, 0.005615102127194405, 0.030729979276657104, -0.0011812546290457249, -0.005400471854954958, 0.011381708085536957, 0.014039333909749985, -0.004144254606217146, -0.01917782984673977, 0.014455968514084816, 0.005558288190513849, 0.01720828376710415, -0.04484506696462631, 0.012802054174244404, 0.003989594988524914, -0.013420693576335907, -0.015339739620685577, -0.03530033677816391, 0.011583712883293629, 0.002267819596454501, 0.012915682047605515, 0.026689883321523666, -0.018533939495682716, -0.02549048140645027, -0.03782539814710617, 0.006514654960483313, 0.009083903394639492, -0.03699212893843651, 0.005842357408255339, 0.02410169690847397, -0.02569248527288437, -0.01949346251785755, -0.010377996601164341, -0.1570587307214737, 0.00444094929844141, 0.0389869250357151, -0.025932366028428078, -0.00545097328722477, 0.038734421133995056, 0.013635324314236641, -0.023735564202070236, -0.013294440694153309, 0.02503596991300583, 0.028053415939211845, -0.01316818781197071, -0.03287627920508385, 0.0015071452362462878, 0.0029053972102701664, 0.010100239887833595, -0.0006853170343674719, -0.011242829263210297, 0.010340120643377304, 0.0034183000680059195, 0.031209740787744522, -0.011078700423240662, -0.01000555045902729, -0.004734487272799015, -0.011754154227674007, 0.01818043179810047, -0.014190836809575558, 0.0006797934765927494, -0.0035571781918406487, -0.012063474394381046, -0.020831745117902756, 0.004081128165125847, 0.016248760744929314, -0.012802054174244404, 0.01739766262471676, -0.006031737197190523, -0.002259928733110428, 0.0002899873652495444, -0.017044154927134514, 0.03535084053874016, 0.0002749948180280626, 0.03865866735577583, 0.013370192609727383, -0.02484659105539322, 0.0017454477492719889, 0.004532482475042343, -0.021362006664276123, 0.02427845261991024, 0.018155181780457497, -0.01627401076257229, 0.011432209052145481, -0.00496805552393198, 0.009803545661270618, -0.005627727601677179, 0.016135133802890778, 0.013471195474267006, 0.0038507163990288973, 0.013584822416305542, -0.013243939727544785, -0.007512053474783897, -0.014380216598510742, -0.02676563523709774, 0.007979189977049828, 0.0026055462658405304, 0.006603031884878874, 0.006167458835989237, -0.028558429330587387, 0.02104637585580349, -0.0490366667509079, 0.002622906118631363, 0.005463598761707544, 0.008894523605704308, 0.0061516775749623775, -0.009292220696806908, -0.020932747051119804, 0.012656862847507, -0.01691790111362934, 0.015617496334016323, -0.022889668121933937, 0.005997017491608858, 0.0045956093817949295, 0.014026707969605923, -0.037194132804870605, -0.016147758811712265, 0.01866019330918789, -0.008566265925765038, 0.007070167921483517, -0.017448164522647858, 0.011369082145392895, 0.007164857815951109, 0.024732962250709534, -0.043481532484292984, -0.013243939727544785, -0.015642747282981873, 0.0325227715075016, 0.02071811631321907, 0.004314696416258812, 0.009702542796730995, 0.0003949351666960865, 0.0012846242170780897, -0.006006486248224974, -0.021122125908732414, -0.01518823578953743, 0.02165238931775093, 0.015478617511689663, 0.00760674336925149, 0.016703272238373756, 0.024253200739622116, 0.03901217505335808, 0.019531339406967163, 0.0056529780849814415, 0.008149631321430206, 0.011924595572054386, 0.03477007523179054, 0.0039043740835040808, 0.03673962131142616, -0.028002915903925896, -0.009872984141111374, 0.02605861984193325, -0.008844022639095783, 0.05216773971915245, 0.008686206303536892, -0.024783464148640633, 0.00909652840346098, -0.009967674501240253, -0.013319691643118858, -0.068227119743824, -0.01767542026937008, 0.00797287654131651, 0.004974368028342724, -0.017915301024913788, 0.01352169644087553, 0.010529500432312489, 0.011539524421095848, -0.02868468128144741, -0.0025140128564089537, 0.0004308383504394442, -0.015226111747324467, 0.006325275171548128, 0.015352364629507065, 0.012884118594229221, -0.008168568834662437, -0.013117686845362186, -0.021665014326572418, 0.011495335958898067, 0.011735216714441776, 0.0276999082416296, 0.008421074599027634, 0.014935730025172234, -0.03524983674287796, -0.004018001724034548, 0.005791856441646814, -0.010611564852297306, 0.026790887117385864, 0.013206063769757748, -0.008427388034760952, -0.005933891050517559, -0.01869806833565235, -0.00758149242028594, 0.0031216053757816553, -0.002573983045294881, -0.024922342970967293, -0.039996951818466187, -0.004210537299513817, 0.0276999082416296, -0.0037465577479451895, 0.005574069917201996, 0.023647187277674675, 0.02797766402363777, -0.014354965649545193, 0.0027049705386161804, 0.0012309667654335499, -0.001354852458462119, 0.010239118710160255, -0.005529881455004215, -0.022207902744412422, -0.0235714353621006, -0.023306304588913918, -0.057066354900598526, 0.0015592245617881417, 0.04911241680383682, -0.008477889001369476, 0.0179026760160923, -0.00036692278808914125, -0.005675072316080332, 0.02469508722424507, -0.013269190676510334, 0.024392079561948776, 0.007063855417072773, 0.0005243445048108697, 0.009835109114646912, 0.0039959074929356575, -0.026841387152671814, 0.00958260241895914, 0.03277527913451195, -0.015150359831750393, 0.013723701238632202, 0.021273629739880562, -0.02230890467762947, 0.03881017118692398, -0.053783778101205826, 0.011968784034252167, -0.01729666069149971, -0.008711457252502441, 0.016286637634038925, -0.04120897874236107, -0.01319343876093626, -0.029820958152413368, 0.007196420803666115, -0.02540210261940956, 0.010131803341209888, -0.003550865687429905, 0.004311539698392153, -0.023268427699804306, 0.003825465915724635, -0.00869883131235838, -0.0010352745885029435, 0.008294821716845036, -1.3217110790719744e-05, -0.045779336243867874, 0.0007878976175561547, 0.013142936863005161, -0.026841387152671814, -0.0017375568859279156, 0.006075925659388304, 0.022069023922085762, 0.0057539804838597775, -0.03764864429831505, -0.054541297256946564, 0.020932747051119804, -0.009797233156859875, -0.024253200739622116, 0.012745240703225136, -0.0016760085709393024, 0.01874857023358345, -0.022043773904442787, -0.00742998905479908, -0.0022504597436636686, 0.013016683980822563, 0.008705144748091698, 0.006331588141620159, 0.0013264456065371633, -0.02564198337495327, -0.024631960317492485, 0.006950227543711662, 0.008566265925765038, 0.00927959568798542, 0.014228712767362595, 0.00028170199948363006, 0.005795012693852186, 0.0029322258196771145, 0.018395062536001205, -0.017890049144625664, 0.010984010994434357, -0.01866019330918789, 0.01246748398989439, -0.01015074085444212, -0.004775519482791424, 0.005940203554928303, -0.042774517089128494, -0.003503520740196109, 0.03176525607705116, 0.021008498966693878, -0.011482710018754005, 0.012650550343096256, 0.020276231691241264, 0.013837329111993313, 0.04981943219900131, -0.017599668353796005, -0.03474482521414757, 0.004100066144019365, -0.006571468431502581, -0.013130311854183674, 0.01917782984673977, -0.007000728975981474, 0.00923540722578764, 0.029189692810177803, -0.017372412607073784, 0.022233152762055397, 0.02569248527288437, -0.008749333210289478, 0.0008932399796321988, -0.0051605915650725365, -0.04100697487592697, 0.01686740107834339, -0.0009571555419825017, 0.022056398913264275, -0.003803371684625745, 0.005230030510574579, -0.017094656825065613, -0.0028422705363482237, 0.014127710834145546, -0.0021447227336466312, 0.012833617627620697, 0.005993861239403486, -0.011369082145392895, 0.019367210566997528, -0.03333079069852829, -0.0425725132226944, 0.003727619769051671, -0.0031452777329832315, -0.023924943059682846, -0.008761958219110966, 0.010819882154464722, -0.009500537998974323, 0.00018612454005051404, -0.0021447227336466312, 0.03080573119223118, -0.021816518157720566, -0.0069754780270159245, -0.0015868423506617546, -0.014708474278450012, 0.009393223561346531, 0.007676182314753532, -0.017271410673856735, 0.013862579129636288, 0.0178521741181612, -0.013445944525301456, -0.05681385099887848, 0.009412161074578762, 0.014620097354054451, -0.012694738805294037, 0.02142513357102871, 0.00804231595247984, -0.010422185063362122, -0.0004040095955133438, 0.0024130104575306177, 0.009980299510061741, -0.0028659431263804436, -0.001594733214005828, 0.0062810867093503475, -0.01645076647400856, -0.007480490021407604, 0.009481600485742092, 0.009418473578989506, -0.023748189210891724, -0.011305956169962883, 0.0277504101395607, 0.010826194658875465, -0.023508308455348015, -0.019278833642601967, 0.005179529078304768, -0.012991433963179588, 0.002018469851464033, 0.012076099403202534, -0.02648787945508957, -0.0340125598013401, 0.03148749843239784, 0.011684714816510677, 0.012082411907613277, 0.00953841395676136, -0.030073463916778564, 0.027901912108063698, 0.027573654428124428, 0.005643508862704039, -0.010390621609985828, -0.004879678599536419, 0.015440741553902626, -0.016059381887316704, 0.02569248527288437, -0.02971995621919632, -0.008919774554669857, -0.03744664043188095, 0.026866639032959938, 0.001130753429606557, 0.004437793046236038, -0.040375709533691406, 0.05302625894546509, 0.0012767334701493382, -0.0020500330720096827, 0.002370400121435523, 0.0020279388409107924, 0.013243939727544785, 0.025111721828579903, 0.028002915903925896, -0.039921198040246964, 0.0056876977905631065, -0.0038696543779224157, -0.021879645064473152, -0.003348860889673233, -0.04110797494649887, -0.017789047211408615, -0.005293156951665878, -0.024455206468701363, 0.0023640873841941357, -0.012524297460913658, 0.030123965814709663, 0.025250600650906563, 0.027775660157203674, -0.004715549293905497, 0.0016042022034525871, -0.026083869859576225, -0.001369845005683601, 0.020692866295576096, -0.018571816384792328, 0.023356804624199867, -0.005271062720566988, -0.0005791856092400849, 0.00014390869182534516, -0.032320767641067505, -0.010213867761194706, -0.0027128614019602537, -0.0005393370520323515, -0.007196420803666115, -0.0020752837881445885, 0.009885610081255436, 0.011047137901186943, -0.00914071686565876, 0.007467865012586117, 0.0011236517457291484, 0.01847081445157528, 0.037194132804870605, 0.020402485504746437, -0.017372412607073784, 0.00630633719265461, 0.00547306751832366]\n"
     ]
    }
   ],
   "source": [
    "from langchain_openai import OpenAIEmbeddings\n",
    "\n",
    "embeddings = OpenAIEmbeddings() # process embedding\n",
    "\n",
    "text = \"진희는 강아지를 키우고 있습니다. 진희가 키우고 있는 동물은?\"\n",
    "text_embedding = embeddings.embed_query(text)\n",
    "print(text_embedding)"
   ]
  },
  {
   "cell_type": "code",
   "execution_count": 45,
   "id": "a6787de7",
   "metadata": {},
   "outputs": [
    {
     "data": {
      "application/vnd.jupyter.widget-view+json": {
       "model_id": "ea76bc5f8c7a424a8e8683167e0755e5",
       "version_major": 2,
       "version_minor": 0
      },
      "text/plain": [
       "modules.json:   0%|          | 0.00/349 [00:00<?, ?B/s]"
      ]
     },
     "metadata": {},
     "output_type": "display_data"
    },
    {
     "data": {
      "application/vnd.jupyter.widget-view+json": {
       "model_id": "c33c5b5fd46e4d368ff16053c6508e01",
       "version_major": 2,
       "version_minor": 0
      },
      "text/plain": [
       "config_sentence_transformers.json:   0%|          | 0.00/116 [00:00<?, ?B/s]"
      ]
     },
     "metadata": {},
     "output_type": "display_data"
    },
    {
     "data": {
      "application/vnd.jupyter.widget-view+json": {
       "model_id": "5fa5ff7aab7344a19bab09d28967fa5a",
       "version_major": 2,
       "version_minor": 0
      },
      "text/plain": [
       "README.md:   0%|          | 0.00/10.7k [00:00<?, ?B/s]"
      ]
     },
     "metadata": {},
     "output_type": "display_data"
    },
    {
     "data": {
      "application/vnd.jupyter.widget-view+json": {
       "model_id": "a26f11e5c6884c269f3bd67d857345af",
       "version_major": 2,
       "version_minor": 0
      },
      "text/plain": [
       "sentence_bert_config.json:   0%|          | 0.00/53.0 [00:00<?, ?B/s]"
      ]
     },
     "metadata": {},
     "output_type": "display_data"
    },
    {
     "data": {
      "application/vnd.jupyter.widget-view+json": {
       "model_id": "2908eb96d68447fb86c6d7403abf18a6",
       "version_major": 2,
       "version_minor": 0
      },
      "text/plain": [
       "config.json:   0%|          | 0.00/612 [00:00<?, ?B/s]"
      ]
     },
     "metadata": {},
     "output_type": "display_data"
    },
    {
     "data": {
      "application/vnd.jupyter.widget-view+json": {
       "model_id": "36e4418f450c4341966e5a3a26028865",
       "version_major": 2,
       "version_minor": 0
      },
      "text/plain": [
       "model.safetensors:   0%|          | 0.00/90.9M [00:00<?, ?B/s]"
      ]
     },
     "metadata": {},
     "output_type": "display_data"
    },
    {
     "data": {
      "application/vnd.jupyter.widget-view+json": {
       "model_id": "845acfe30680418fa04eb927e1df3720",
       "version_major": 2,
       "version_minor": 0
      },
      "text/plain": [
       "tokenizer_config.json:   0%|          | 0.00/350 [00:00<?, ?B/s]"
      ]
     },
     "metadata": {},
     "output_type": "display_data"
    },
    {
     "data": {
      "application/vnd.jupyter.widget-view+json": {
       "model_id": "f569a704802d4c428eafa0493818de4b",
       "version_major": 2,
       "version_minor": 0
      },
      "text/plain": [
       "vocab.txt:   0%|          | 0.00/232k [00:00<?, ?B/s]"
      ]
     },
     "metadata": {},
     "output_type": "display_data"
    },
    {
     "data": {
      "application/vnd.jupyter.widget-view+json": {
       "model_id": "b60f7115c9e343e0b3056d4125aa98dc",
       "version_major": 2,
       "version_minor": 0
      },
      "text/plain": [
       "tokenizer.json:   0%|          | 0.00/466k [00:00<?, ?B/s]"
      ]
     },
     "metadata": {},
     "output_type": "display_data"
    },
    {
     "data": {
      "application/vnd.jupyter.widget-view+json": {
       "model_id": "d62a4c4c75c849bcbf7f25371ab14f64",
       "version_major": 2,
       "version_minor": 0
      },
      "text/plain": [
       "special_tokens_map.json:   0%|          | 0.00/112 [00:00<?, ?B/s]"
      ]
     },
     "metadata": {},
     "output_type": "display_data"
    },
    {
     "data": {
      "application/vnd.jupyter.widget-view+json": {
       "model_id": "5d68f8b9e9c64aed87b4c0f6e66aad9c",
       "version_major": 2,
       "version_minor": 0
      },
      "text/plain": [
       "1_Pooling/config.json:   0%|          | 0.00/190 [00:00<?, ?B/s]"
      ]
     },
     "metadata": {},
     "output_type": "display_data"
    },
    {
     "name": "stdout",
     "output_type": "stream",
     "text": [
      "[0.013278779573738575, 0.07225917279720306, 0.09263096749782562, -0.0039795683696866035, 0.001561725977808237, -0.10306370258331299, 0.10929875075817108, 0.05566210299730301, -0.031167425215244293, -0.0502031184732914, 0.08312948048114777, -0.008924421854317188, 0.09506320208311081, -0.06980786472558975, 0.03955895081162453, -0.10899192839860916, 0.04943864420056343, 0.03736482188105583, -0.1240922063589096, -0.003315540961921215, 0.048409510403871536, -0.031085167080163956, 0.008207038976252079, 0.06326042860746384, -0.06804243475198746, -0.010208276100456715, 0.004927005153149366, -0.014940350316464901, -0.0014766406966373324, -0.006598856300115585, -0.040159519761800766, 0.08289802819490433, 0.014144694432616234, -0.011793593876063824, -0.09415138512849808, 0.0021563733462244272, -0.019053079187870026, -0.03773901239037514, -0.0032711629755795, 0.046856097877025604, -0.18111611902713776, -0.11718787997961044, 0.03504836559295654, -0.06848112493753433, 0.06553434580564499, 0.035228628665208817, -0.04974856227636337, -0.12612944841384888, -0.07845976203680038, 0.004257867578417063, -0.10124038904905319, -0.025173930451273918, 0.028697635978460312, -0.0964251384139061, 0.004547176882624626, 0.013642475940287113, -0.07578512281179428, 0.0015168433310464025, 0.012643803842365742, 0.03935788571834564, 0.025811711326241493, 0.010000527836382389, 0.003953048959374428, 0.10661797225475311, 0.07008874416351318, 0.0038212877698242664, -0.028669049963355064, -0.048123084008693695, 0.02329871989786625, -0.07286632061004639, 0.10862237215042114, -0.0030020694248378277, 0.045723918825387955, 0.02851771004498005, -0.06160319223999977, -0.04397083446383476, -0.04367738962173462, -0.01679396443068981, -0.024261225014925003, -0.008180598728358746, 0.0273053627461195, 0.062305036932229996, -0.026362719014286995, 0.045845672488212585, -0.036544982343912125, -0.011483726091682911, -0.007790872827172279, -0.011519055813550949, -0.1322515308856964, 0.06266409903764725, 0.08490284532308578, 0.13822096586227417, -0.06200700253248215, 0.011805270798504353, -0.06743832677602768, 0.034557126462459564, -0.027235480025410652, -0.04584906995296478, 0.017875798046588898, 0.019349632784724236, -0.010784868150949478, 0.05677265673875809, -0.003138207131996751, 0.05946096405386925, -0.05615432932972908, -0.0456305630505085, -0.011725631542503834, -0.07855498790740967, 0.031177068129181862, 0.044500015676021576, -0.05853133276104927, -0.0745965987443924, -0.111649289727211, -0.08641171455383301, -0.0022323920857161283, -0.05567563697695732, -0.029581386595964432, -0.01991332322359085, 0.020892413333058357, 4.48986938863527e-05, 0.016313308849930763, -0.01923966407775879, 0.007343309000134468, -0.05691511556506157, -0.060246050357818604, -0.06726790964603424, 0.05699148774147034, 5.757119132344482e-33, -0.1167159378528595, -0.047875285148620605, 0.02430460788309574, -0.007873345166444778, -0.07164964079856873, -0.0434735082089901, -0.0005882646655663848, -0.012201088480651379, -0.010133817791938782, 0.012090078555047512, -0.013181922025978565, 0.013156980276107788, -0.11160192638635635, 0.022419987246394157, 0.07929772883653641, 0.020015938207507133, 0.010653370060026646, 0.018925700336694717, -0.07727375626564026, 0.06650304049253464, -0.019031383097171783, 0.04687982425093651, 0.04418342188000679, -0.012243690900504589, 0.017359571531414986, -0.03638279810547829, 0.03686298057436943, -0.05764244496822357, -0.08014406263828278, 0.05139584466814995, 0.06797020882368088, -0.06613993644714355, 0.015986936166882515, -0.017422806471586227, -0.08709697425365448, -0.04842482879757881, -0.03139860928058624, -0.018943212926387787, 0.035984817892313004, -0.015174001455307007, -0.056677497923374176, -0.01662774384021759, 0.0026758017484098673, 0.07279302924871445, -0.016608623787760735, 0.15623924136161804, 0.020053831860423088, -0.0036489644553512335, -0.042884502559900284, -0.010872323997318745, -0.0054998742416501045, 0.04295511916279793, 0.006219560280442238, 0.018311375752091408, 0.06155116856098175, 0.049766331911087036, 0.07751656323671341, -0.05067327246069908, -0.09273550659418106, 0.04337529093027115, -0.02570643648505211, 0.06924054771661758, -0.016224350780248642, -0.035529956221580505, 0.035152386873960495, 0.027524039149284363, -0.031593360006809235, 0.0021321012172847986, 0.06902911514043808, -0.028676938265562057, 0.007580766920000315, -0.029038487002253532, -0.057637326419353485, 0.08411039412021637, -0.05106532201170921, -0.018208973109722137, -0.032217126339673996, 0.008495724759995937, -0.023271242156624794, 0.10360085964202881, -0.04715121164917946, 0.05071762576699257, -0.019967298954725266, -0.08733563870191574, 0.04307279735803604, 0.04250316321849823, 0.06188526377081871, -0.029018115252256393, 0.05750003084540367, 0.09962569922208786, 0.0031136188190430403, -0.02107999660074711, -0.021313054487109184, 0.009604341350495815, -0.010661398060619831, -1.1082319763210608e-32, 0.022461969405412674, 0.05014048144221306, -0.04363620653748512, 0.04319090396165848, 0.014806117862462997, -0.022129051387310028, -0.03533609211444855, -0.012966054491698742, 0.04126865789294243, 0.07568327337503433, -0.022778311744332314, 0.00446463143453002, -0.002023060340434313, 0.008317665196955204, 0.012391242198646069, 0.023457854986190796, -0.0046185762621462345, 0.016717569902539253, -0.03969213739037514, 0.07550632953643799, -0.02475341595709324, 0.0006306245923042297, -0.02586471475660801, 0.02483486756682396, -0.06750305742025375, -0.028255272656679153, -0.029146894812583923, 0.005055256653577089, -0.04198860377073288, -0.0336395762860775, 0.04718657210469246, -0.09567125886678696, 0.053421750664711, 0.07293447852134705, 0.055894773453474045, -0.11131350696086884, -0.032456424087285995, -0.06448204815387726, -0.007085202727466822, -0.05535496026277542, -0.0018304558470845222, -0.03703375160694122, 0.06931700557470322, -0.066371850669384, -0.011753502301871777, -0.06057426705956459, -0.042111318558454514, -0.05767344683408737, 0.013263058848679066, -0.0782160758972168, 0.10719427466392517, 0.013944936916232109, -0.001878953306004405, -0.06151440739631653, 0.07397805899381638, 0.0016911823768168688, 0.00728401355445385, 0.029222458600997925, -0.015497085638344288, -0.02665155567228794, 0.04017440602183342, -0.030120907351374626, -0.01724390685558319, 0.0845847949385643, -0.0727551132440567, 0.024766840040683746, 0.04224063456058502, -0.07882054150104523, -0.02020176313817501, -0.051223285496234894, 0.025022657588124275, 0.010713769122958183, 0.0944509282708168, 0.001276578288525343, -0.11785265058279037, -0.023612195625901222, -0.006602718494832516, -0.00565138878300786, 0.024886006489396095, -0.007404434960335493, -0.07830583304166794, 0.044342342764139175, -0.004738524090498686, -0.030357200652360916, -0.09630078077316284, -0.07722241431474686, -0.011737392283976078, -0.012655753642320633, -0.02055193856358528, -0.03310271352529526, -0.006987059023231268, 0.06579408794641495, -0.06467682868242264, 0.01672283746302128, 0.02586504817008972, -6.747300318465932e-08, 0.014355793595314026, -0.10713934153318405, 0.05957287177443504, 0.014457148499786854, 0.024237247183918953, 0.0008712985436432064, 0.04152454063296318, 0.02022598870098591, -0.023231828585267067, -0.0010368378134444356, 0.06980491429567337, 0.03986060246825218, -0.0910438671708107, 0.07905735820531845, -0.05506018549203873, -0.09717676043510437, 0.02966950833797455, 0.08205384016036987, 0.015298678539693356, -0.029271241277456284, 0.039582233875989914, -0.03370226174592972, -0.054869700223207474, 0.01691870391368866, -0.024194996803998947, 0.017249776050448418, -0.012048215605318546, -0.026754528284072876, 0.005114172585308552, -0.043591778725385666, -0.0038825562223792076, -0.03072371520102024, 0.0005513492505997419, -0.04155445471405983, 0.041734203696250916, -0.02271142788231373, -0.0516526997089386, 0.001999904867261648, -0.0300368033349514, 0.013122690841555595, -0.03614303097128868, -0.09906810522079468, 0.05761142820119858, 0.03177982568740845, 0.06513629108667374, -0.025864511728286743, 0.020204858854413033, -0.031005900353193283, -0.035835716873407364, 0.03948361799120903, -0.02618596702814102, -0.01708563230931759, 0.0013754783431068063, -0.020843874663114548, 0.020826369524002075, 0.03732385113835335, 0.01778588816523552, 0.03167774900794029, -0.03965365141630173, 0.010524049401283264, 0.016324641183018684, 0.04119260609149933, 0.043899789452552795, 0.011871973983943462]\n"
     ]
    }
   ],
   "source": [
    "from langchain_huggingface import HuggingFaceEmbeddings\n",
    "\n",
    "embeddings = HuggingFaceEmbeddings(model_name = \"sentence-transformers/all-MiniLM-L6-v2\")\n",
    "\n",
    "text = \"진희는 강아지를 키우고 있습니다. 진희가 키우고 있는 동물은?\"\n",
    "text_embedding = embeddings.embed_query(text)\n",
    "print(text_embedding)"
   ]
  },
  {
   "cell_type": "code",
   "execution_count": 46,
   "id": "040b920e",
   "metadata": {},
   "outputs": [],
   "source": [
    "from langchain.vectorstores import FAISS\n",
    "from langchain_openai import OpenAIEmbeddings\n",
    "\n",
    "embeddings = OpenAIEmbeddings() # process embedding\n",
    "db = FAISS.from_documents(document, embeddings)"
   ]
  },
  {
   "cell_type": "code",
   "execution_count": 49,
   "id": "7edda7f2-f448-43fe-bd0d-90c6d8b5675f",
   "metadata": {},
   "outputs": [
    {
     "name": "stdout",
     "output_type": "stream",
     "text": [
      "마을 무덤에 있던 남자를 죽인 사람은 Injun Joe입니다.\n"
     ]
    }
   ],
   "source": [
    "from langchain_openai import ChatOpenAI\n",
    "from langchain.chains import RetrievalQA\n",
    "\n",
    "llm = ChatOpenAI(temperature=0,\n",
    "                 model_name='gpt-3.5-turbo',\n",
    "                )\n",
    "retriever = db.as_retriever()\n",
    "\n",
    "qa = RetrievalQA.from_chain_type(\n",
    "    llm=llm,\n",
    "    chain_type=\"stuff\",\n",
    "    retriever=retriever)\n",
    "\n",
    "query = \"마을 무덤에 있던 남자를 죽인 사람은 누구니?\"\n",
    "result = qa.invoke({\"query\" : query})\n",
    "print(result['result'])"
   ]
  },
  {
   "cell_type": "code",
   "execution_count": 5,
   "id": "b0c37926-83e9-4353-9755-2d201267ad46",
   "metadata": {},
   "outputs": [
    {
     "data": {
      "text/plain": [
       "{'country': '대한민국', 'text': '대한민국의 수도는 서울입니다.'}"
      ]
     },
     "execution_count": 5,
     "metadata": {},
     "output_type": "execute_result"
    }
   ],
   "source": [
    "from langchain.chains import LLMChain\n",
    "from langchain import PromptTemplate\n",
    "from langchain_openai import ChatOpenAI\n",
    "\n",
    "llm = ChatOpenAI(temperature=0,\n",
    "                model_name='gpt-4')\n",
    "prompt = PromptTemplate(\n",
    "    input_variables=[\"country\"],\n",
    "    template=\"{country}의 수도는 어디야?\",\n",
    ")\n",
    "\n",
    "# connect prompt and model using chain \n",
    "chain = LLMChain(llm=llm, prompt=prompt)\n",
    "chain.invoke(\"대한민국\")"
   ]
  },
  {
   "cell_type": "code",
   "execution_count": 7,
   "id": "afde0171-49fd-422b-b943-ed18eda20180",
   "metadata": {},
   "outputs": [
    {
     "data": {
      "text/plain": [
       "{'sentence': '\\nOne limitation of LLMs is their lack of contextual information (e.g., access to some specific documents or emails). \\nYou can combat this by giving LLMs access to the specific external data.\\nFor this, you first need to load the external data with a document loader.\\nLangChain provides a variety of loaders for different types of documents ranging from PDFs and emails to websites and YouTube videos.\\n',\n",
       " 'translation': 'LLM의 한 가지 제한점은 문맥 정보(예: 특정 문서나 이메일에 대한 접근)의 부족입니다. \\n이를 극복하기 위해 LLM에게 특정 외부 데이터에 대한 접근 권한을 부여할 수 있습니다. \\n이를 위해 먼저 문서 로더를 사용하여 외부 데이터를 로드해야 합니다. \\nLangChain은 PDF와 이메일부터 웹사이트와 YouTube 비디오에 이르기까지 다양한 유형의 문서에 대한 로더를 제공합니다.',\n",
       " 'summary': 'LLM의 문맥 정보 부족 문제는 특정 외부 데이터에 대한 접근 권한을 부여하고, LangChain의 문서 로더를 사용해 다양한 유형의 문서를 로드함으로써 극복할 수 있습니다.'}"
      ]
     },
     "execution_count": 7,
     "metadata": {},
     "output_type": "execute_result"
    }
   ],
   "source": [
    "# set prompt 1\n",
    "prompt1 = PromptTemplate(\n",
    "    input_variables=['sentence'],\n",
    "    template=\"다음 문장을 한글로 번역하세요.\\n\\n{sentence}\"\n",
    ")\n",
    "\n",
    "# translate model (chain1)\n",
    "chain1 = LLMChain(llm=llm, prompt=prompt1, output_key=\"translation\")\n",
    "\n",
    "\n",
    "# set prompt 2\n",
    "prompt2 = PromptTemplate.from_template(\n",
    "    \"다음 문장을 한 문장으로 요약하세요.\\n\\n{translation}\"\n",
    ")\n",
    "\n",
    "# summary model (chain2)\n",
    "chain2 = LLMChain(llm=llm, prompt=prompt2, output_key=\"summary\")\n",
    "\n",
    "from langchain.chains import SequentialChain\n",
    "all_chain = SequentialChain(\n",
    "    chains=[chain1, chain2],\n",
    "    input_variables=['sentence'],\n",
    "    output_variables=['translation', 'summary']\n",
    ")\n",
    "\n",
    "# 번역하고 요약해야 할 영어 문장\n",
    "sentence=\"\"\"\n",
    "One limitation of LLMs is their lack of contextual information (e.g., access to some specific documents or emails). \n",
    "You can combat this by giving LLMs access to the specific external data.\n",
    "For this, you first need to load the external data with a document loader.\n",
    "LangChain provides a variety of loaders for different types of documents ranging from PDFs and emails to websites and YouTube videos.\n",
    "\"\"\"\n",
    "\n",
    "all_chain.invoke(sentence)"
   ]
  },
  {
   "cell_type": "code",
   "execution_count": 10,
   "id": "ac2df1c7-b91a-4d24-b0e4-1bdeb8bebe1e",
   "metadata": {},
   "outputs": [
    {
     "name": "stdout",
     "output_type": "stream",
     "text": [
      "\n",
      "\n",
      "\u001b[1m> Entering new ConversationChain chain...\u001b[0m\n",
      "Prompt after formatting:\n",
      "\u001b[32;1m\u001b[1;3mThe following is a friendly conversation between a human and an AI. The AI is talkative and provides lots of specific details from its context. If the AI does not know the answer to a question, it truthfully says it does not know.\n",
      "\n",
      "Current conversation:\n",
      "\n",
      "Human: 진희는 강아지를 한 마리 키우고 있어\n",
      "AI:\u001b[0m\n",
      "\n",
      "\u001b[1m> Finished chain.\u001b[0m\n",
      "\n",
      "\n",
      "\u001b[1m> Entering new ConversationChain chain...\u001b[0m\n",
      "Prompt after formatting:\n",
      "\u001b[32;1m\u001b[1;3mThe following is a friendly conversation between a human and an AI. The AI is talkative and provides lots of specific details from its context. If the AI does not know the answer to a question, it truthfully says it does not know.\n",
      "\n",
      "Current conversation:\n",
      "Human: 진희는 강아지를 한 마리 키우고 있어\n",
      "AI: 그렇군요, 진희님이 강아지를 한 마리 키우고 계시다니 정말 멋진 일이네요. 강아지는 사람의 가장 친한 친구라고도 불리우니까요. 그런데 혹시 진희님의 강아지는 어떤 종류인지 알 수 있을까요? 그리고 그 강아지의 이름은 무엇인가요?\n",
      "Human: 영수는 고양이를 두 마리 키우고 있어\n",
      "AI:\u001b[0m\n",
      "\n",
      "\u001b[1m> Finished chain.\u001b[0m\n",
      "\n",
      "\n",
      "\u001b[1m> Entering new ConversationChain chain...\u001b[0m\n",
      "Prompt after formatting:\n",
      "\u001b[32;1m\u001b[1;3mThe following is a friendly conversation between a human and an AI. The AI is talkative and provides lots of specific details from its context. If the AI does not know the answer to a question, it truthfully says it does not know.\n",
      "\n",
      "Current conversation:\n",
      "Human: 진희는 강아지를 한 마리 키우고 있어\n",
      "AI: 그렇군요, 진희님이 강아지를 한 마리 키우고 계시다니 정말 멋진 일이네요. 강아지는 사람의 가장 친한 친구라고도 불리우니까요. 그런데 혹시 진희님의 강아지는 어떤 종류인지 알 수 있을까요? 그리고 그 강아지의 이름은 무엇인가요?\n",
      "Human: 영수는 고양이를 두 마리 키우고 있어\n",
      "AI: 아, 영수님은 고양이를 두 마리나 키우고 계시군요. 고양이는 독립적인 성격과 우아한 행동으로 많은 사람들이 좋아하는 동물이죠. 영수님의 고양이들은 어떤 종류인지, 그리고 이름은 무엇인지 알려주실 수 있나요?\n",
      "Human: 진희와 영수가 키우는 동물은 총 몇 마리야?\n",
      "AI:\u001b[0m\n",
      "\n",
      "\u001b[1m> Finished chain.\u001b[0m\n"
     ]
    },
    {
     "data": {
      "text/plain": [
       "{'input': '진희와 영수가 키우는 동물은 총 몇 마리야?',\n",
       " 'history': 'Human: 진희는 강아지를 한 마리 키우고 있어\\nAI: 그렇군요, 진희님이 강아지를 한 마리 키우고 계시다니 정말 멋진 일이네요. 강아지는 사람의 가장 친한 친구라고도 불리우니까요. 그런데 혹시 진희님의 강아지는 어떤 종류인지 알 수 있을까요? 그리고 그 강아지의 이름은 무엇인가요?\\nHuman: 영수는 고양이를 두 마리 키우고 있어\\nAI: 아, 영수님은 고양이를 두 마리나 키우고 계시군요. 고양이는 독립적인 성격과 우아한 행동으로 많은 사람들이 좋아하는 동물이죠. 영수님의 고양이들은 어떤 종류인지, 그리고 이름은 무엇인지 알려주실 수 있나요?',\n",
       " 'response': '진희님이 한 마리의 강아지를 키우고 있고, 영수님이 두 마리의 고양이를 키우고 있으니, 진희와 영수가 키우는 동물은 총 세 마리입니다.'}"
      ]
     },
     "execution_count": 10,
     "metadata": {},
     "output_type": "execute_result"
    }
   ],
   "source": [
    "from langchain_openai import ChatOpenAI\n",
    "from langchain.chains import ConversationChain\n",
    "from langchain.memory import ConversationBufferMemory\n",
    "\n",
    "llm = ChatOpenAI(\n",
    "    temperature=0,\n",
    "    model_name=\"gpt-4\"\n",
    ")\n",
    "conversation = ConversationChain(\n",
    "    llm=llm,\n",
    "    verbose=True, # verbose : 상세한 로깅 = True 활성화 \n",
    "    memory=ConversationBufferMemory(memory_key=\"history\") # memory : 대화 내용을 저장하는 메모리 버퍼를 지정\n",
    ")\n",
    "conversation.invoke({\"input\": \"진희는 강아지를 한 마리 키우고 있어\"})\n",
    "conversation.invoke({\"input\": \"영수는 고양이를 두 마리 키우고 있어\"})\n",
    "conversation.invoke({\"input\": \"진희와 영수가 키우는 동물은 총 몇 마리야?\"})"
   ]
  },
  {
   "cell_type": "code",
   "execution_count": 11,
   "id": "47bc7187-620f-4bb2-83be-bef338add4ed",
   "metadata": {},
   "outputs": [
    {
     "name": "stdout",
     "output_type": "stream",
     "text": [
      "Looking in indexes: https://pypi.org/simple, https://pypi.ngc.nvidia.com\n",
      "Collecting wikipedia\n",
      "  Downloading wikipedia-1.4.0.tar.gz (27 kB)\n",
      "  Preparing metadata (setup.py) ... \u001b[?25ldone\n",
      "\u001b[?25hRequirement already satisfied: beautifulsoup4 in ./anaconda3/envs/llm/lib/python3.8/site-packages (from wikipedia) (4.12.3)\n",
      "Requirement already satisfied: requests<3.0.0,>=2.0.0 in ./anaconda3/envs/llm/lib/python3.8/site-packages (from wikipedia) (2.32.3)\n",
      "Requirement already satisfied: charset-normalizer<4,>=2 in ./anaconda3/envs/llm/lib/python3.8/site-packages (from requests<3.0.0,>=2.0.0->wikipedia) (3.3.2)\n",
      "Requirement already satisfied: idna<4,>=2.5 in ./anaconda3/envs/llm/lib/python3.8/site-packages (from requests<3.0.0,>=2.0.0->wikipedia) (3.7)\n",
      "Requirement already satisfied: urllib3<3,>=1.21.1 in ./anaconda3/envs/llm/lib/python3.8/site-packages (from requests<3.0.0,>=2.0.0->wikipedia) (2.2.2)\n",
      "Requirement already satisfied: certifi>=2017.4.17 in ./anaconda3/envs/llm/lib/python3.8/site-packages (from requests<3.0.0,>=2.0.0->wikipedia) (2024.7.4)\n",
      "Requirement already satisfied: soupsieve>1.2 in ./anaconda3/envs/llm/lib/python3.8/site-packages (from beautifulsoup4->wikipedia) (2.5)\n",
      "Building wheels for collected packages: wikipedia\n",
      "  Building wheel for wikipedia (setup.py) ... \u001b[?25ldone\n",
      "\u001b[?25h  Created wheel for wikipedia: filename=wikipedia-1.4.0-py3-none-any.whl size=11680 sha256=6e37091420670432c06537efc32a2a5ca18c7ed8ab25432cfef7d6b26c8a185a\n",
      "  Stored in directory: /private/var/folders/dg/pj95mbz509vc2n3v_r35dw9m0000gn/T/pip-ephem-wheel-cache-lewede85/wheels/07/93/05/72c05349177dca2e0ba31a33ba4f7907606f7ddef303517c6a\n",
      "Successfully built wikipedia\n",
      "Installing collected packages: wikipedia\n",
      "Successfully installed wikipedia-1.4.0\n",
      "Looking in indexes: https://pypi.org/simple, https://pypi.ngc.nvidia.com\n",
      "Collecting numexpr\n",
      "  Downloading numexpr-2.8.6-cp38-cp38-macosx_10_9_x86_64.whl.metadata (8.0 kB)\n",
      "Requirement already satisfied: numpy>=1.13.3 in ./anaconda3/envs/llm/lib/python3.8/site-packages (from numexpr) (1.24.4)\n",
      "Downloading numexpr-2.8.6-cp38-cp38-macosx_10_9_x86_64.whl (102 kB)\n",
      "\u001b[2K   \u001b[38;2;114;156;31m━━━━━━━━━━━━━━━━━━━━━━━━━━━━━━━━━━━━━━━━\u001b[0m \u001b[32m102.4/102.4 kB\u001b[0m \u001b[31m11.1 MB/s\u001b[0m eta \u001b[36m0:00:00\u001b[0m\n",
      "\u001b[?25hInstalling collected packages: numexpr\n",
      "Successfully installed numexpr-2.8.6\n"
     ]
    }
   ],
   "source": [
    "!pip install wikipedia\n",
    "!pip install numexpr"
   ]
  },
  {
   "cell_type": "code",
   "execution_count": 15,
   "id": "9da73927-4e77-4992-908f-f39fa4aa993f",
   "metadata": {},
   "outputs": [
    {
     "name": "stdout",
     "output_type": "stream",
     "text": [
      "\n",
      "\n",
      "\u001b[1m> Entering new AgentExecutor chain...\u001b[0m\n",
      "\u001b[32;1m\u001b[1;3mThe question is asking for the year Ed Sheeran was born and how old he would be in 2024. First, I need to find out when Ed Sheeran was born.\n",
      "Action: wikipedia\n",
      "Action Input: Ed Sheeran\u001b[0m\u001b[36;1m\u001b[1;3mPage: Ed Sheeran\n",
      "Summary: Edward Christopher Sheeran  ( SHEER-ən; born 17 February 1991) is an English singer-songwriter. Born in Halifax, West Yorkshire, and raised in Framlingham, Suffolk, he began writing songs around the age of eleven. In early 2011, Sheeran independently released the extended play No. 5 Collaborations Project. He signed with Asylum Records the same year.\n",
      "Sheeran's debut album, + (\"Plus\"), was released in September 2011 and topped the UK Albums Chart. It contained his first hit single \"The A Team\". In 2012, Sheeran won the Brit Awards for Best British Male Solo Artist and British Breakthrough Act. Sheeran's second studio album, × (\"Multiply\"), topped charts around the world upon its release in June 2014. It was named the second-best-selling album worldwide of 2015. In the same year, × won Album of the Year at the 2015 Brit Awards, and he received the Ivor Novello Award for Songwriter of the Year from the British Academy of Songwriters, Composers and Authors. A single from ×, \"Thinking Out Loud\", earned him the 2016 Grammy Awards for Song of the Year and Best Pop Solo Performance.\n",
      "Sheeran's third album, ÷ (\"Divide\"), was released in March 2017, and was the best-selling album worldwide of 2017. The first two singles from the album, \"Shape of You\" and \"Castle on the Hill\", broke records in a number of countries by debuting in the top two positions of the charts. He also became the first artist to have two songs debut in the US top 10 in the same week. By March 2017, Sheeran had accumulated ten top-10 singles from ÷ on the UK Singles Chart, breaking the record for most top-10 UK singles from one album. His fourth single from ÷, \"Perfect\", reached number one in the US, Australia, and the UK, where it became the Christmas number one in 2017. The world's best-selling artist of 2017, he was named the Global Recording Artist of the Year. Released in 2019, his fourth overall and first collaborative album, No.6 Collaborations Project, debuted at number one in most major markets, and spawned three UK number one singles, \"I Don't Care\", \"Beautiful People\", and \"Take Me Back to London\". His fifth studio album, = (\"Equals\"), topped the charts in most major markets in 2021. His sixth album, - (\"Subtract\"), was released on 5 May 2023, while his seventh album, Autumn Variations, was released on 29 September 2023 under his own record label, Gingerbread Man Records.\n",
      "Sheeran has sold more than 150 million records worldwide, making him one of the world's best-selling music artists. He has 101 million RIAA-certified units in the US, and two of his albums are in the list of the best-selling albums in UK chart history. In December 2019, the Official Charts Company named him artist of the decade, with the most combined success in the UK album and singles charts in the 2010s. As of April 2022, he is the most followed artist on Spotify. Beginning in March 2017, his ÷ Tour became the highest-grossing of all time in August 2019. An alumnus of the National Youth Theatre in London, Sheeran's acting roles include appearing in the 2019 film Yesterday, playing himself.\n",
      "\n",
      "Edward Christopher Sheeran was born on 17 February 1991 in Halifax, West Yorkshire, England. His early childhood home was on Birchcliffe Road in nearby Hebden Bridge. His father was a curator at Cartwright Hall in Bradford, and his mother worked at Manchester City Art Gallery. In December 1995, he moved with his family from Hebden Bridge to Framlingham in Suffolk, where he attended the independent Brandeston Hall preparatory school (now Framlingham College Prep School), then Thomas Mills High School, also in Framlingham. He has an older brother named Matthew, who works as a composer. Sheeran's parents, John and Imogen, are from London. His father is Irish, and Sheeran has stated that his father is from a \"very large\" Catholic family. John is an art curator and lecturer, and Imogen is a culture publicist turned jewellery designer. His parents ran Sheeran Lock, an independent \u001b[0m\u001b[32;1m\u001b[1;3mEd Sheeran was born on 17 February 1991. Now, I need to calculate how old he would be in 2024.\n",
      "Action: Calculator\n",
      "Action Input: 2024 - 1991\u001b[0m\u001b[33;1m\u001b[1;3mAnswer: 33\u001b[0m\u001b[32;1m\u001b[1;3mI now know the final answer.\n",
      "Final Answer: 에드 시런은 1991년에 태어났습니다. 그래서 2024년에 그는 33살이 됩니다.\u001b[0m\n",
      "\n",
      "\u001b[1m> Finished chain.\u001b[0m\n",
      "{'input': '에드 시런이 태어난 해는 언제야? 2024년도 현재 에드 시런은 몇 살이야?', 'output': '에드 시런은 1991년에 태어났습니다. 그래서 2024년에 그는 33살이 됩니다.'}\n"
     ]
    }
   ],
   "source": [
    "from langchain_openai import ChatOpenAI\n",
    "from langchain.agents import load_tools\n",
    "from langchain.agents import create_react_agent, AgentExecutor\n",
    "from langchain.agents import AgentType\n",
    "from langchain_core.prompts import PromptTemplate\n",
    "\n",
    "# tools : contains descriptions and arguments for each tool \n",
    "# tool_names : contains all tool names\n",
    "# agent_scatchpad: contains previous agent actions and tool outputs as a string\n",
    "template = '''Answer the following questions as best you can. You have access to the following tools:\n",
    "\n",
    "{tools}\n",
    "\n",
    "Use the following format:\n",
    "\n",
    "Question: the input question you must answer\n",
    "Thought: you should always think about what to do\n",
    "Action: the action to take, should be one of [{tool_names}]\n",
    "Action Input: the input to the action\n",
    "Observation: the result of the action\n",
    "... (this Thought/Action/Action Input/Observation can repeat N times)\n",
    "Thought: I now know the final answer\n",
    "Final Answer: the final answer to the original input question\n",
    "\n",
    "Begin!\n",
    "\n",
    "Question: {input}\n",
    "Thought:{agent_scratchpad}'''\n",
    "\n",
    "prompt = PromptTemplate.from_template(template)\n",
    "\n",
    "llm = ChatOpenAI(\n",
    "    temperature=0,\n",
    "    model_name=\"gpt-4\"\n",
    ")\n",
    "\n",
    "# set 'wikipedia' to a tool that agent will access and set 'llm' to a LLM that agent will use\n",
    "tools = load_tools([\"wikipedia\", \"llm-math\"], llm=llm) # llm-math is used for calculating age\n",
    "\n",
    "agent = create_react_agent(llm, tools, prompt)\n",
    "agent_executor = AgentExecutor(agent=agent, tools=tools, verbose=True)\n",
    "result = agent_executor.invoke({\"input\": \"에드 시런이 태어난 해는 언제야? 2024년도 현재 에드 시런은 몇 살이야?\"})\n",
    "\n",
    "print(result)"
   ]
  },
  {
   "cell_type": "code",
   "execution_count": null,
   "id": "522dc30d-e4d6-43eb-bba7-bce7dae7d135",
   "metadata": {},
   "outputs": [],
   "source": []
  }
 ],
 "metadata": {
  "kernelspec": {
   "display_name": "llm",
   "language": "python",
   "name": "llm"
  },
  "language_info": {
   "codemirror_mode": {
    "name": "ipython",
    "version": 3
   },
   "file_extension": ".py",
   "mimetype": "text/x-python",
   "name": "python",
   "nbconvert_exporter": "python",
   "pygments_lexer": "ipython3",
   "version": "3.8.19"
  }
 },
 "nbformat": 4,
 "nbformat_minor": 5
}
